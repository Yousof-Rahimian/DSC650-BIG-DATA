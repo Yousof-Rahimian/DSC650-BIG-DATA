{
  "cells": [
    {
      "cell_type": "code",
      "source": [
        "import os\n",
        "from google.colab import drive\n",
        "drive.mount('/content/drive', force_remount = True)\n",
        "os.chdir('/content/drive/My Drive/assignment04')\n",
        "!pwd"
      ],
      "metadata": {
        "colab": {
          "base_uri": "https://localhost:8080/",
          "height": 0
        },
        "id": "CbhalcX33qbK",
        "outputId": "994c38f9-6100-44c7-ac59-eca8a1d5396d"
      },
      "execution_count": 1,
      "outputs": [
        {
          "output_type": "stream",
          "name": "stdout",
          "text": [
            "Mounted at /content/drive\n",
            "/content/drive/My Drive/assignment04\n"
          ]
        }
      ]
    },
    {
      "cell_type": "code",
      "source": [
        "!pip install pyspark"
      ],
      "metadata": {
        "colab": {
          "base_uri": "https://localhost:8080/",
          "height": 0
        },
        "id": "129b22sZ31FH",
        "outputId": "a3886695-31b1-4fd1-aa3d-a88ce7ac3ff0"
      },
      "execution_count": 2,
      "outputs": [
        {
          "output_type": "stream",
          "name": "stdout",
          "text": [
            "Looking in indexes: https://pypi.org/simple, https://us-python.pkg.dev/colab-wheels/public/simple/\n",
            "Requirement already satisfied: pyspark in /usr/local/lib/python3.9/dist-packages (3.3.2)\n",
            "Requirement already satisfied: py4j==0.10.9.5 in /usr/local/lib/python3.9/dist-packages (from pyspark) (0.10.9.5)\n"
          ]
        }
      ]
    },
    {
      "cell_type": "code",
      "source": [
        "! pip install chardet"
      ],
      "metadata": {
        "colab": {
          "base_uri": "https://localhost:8080/",
          "height": 0
        },
        "id": "3RdcfvpkUQfQ",
        "outputId": "3ed530de-c0a6-4c4d-90a5-b1a34d7ee37a"
      },
      "execution_count": 3,
      "outputs": [
        {
          "output_type": "stream",
          "name": "stdout",
          "text": [
            "Looking in indexes: https://pypi.org/simple, https://us-python.pkg.dev/colab-wheels/public/simple/\n",
            "Requirement already satisfied: chardet in /usr/local/lib/python3.9/dist-packages (4.0.0)\n"
          ]
        }
      ]
    },
    {
      "cell_type": "code",
      "source": [
        "import os\n",
        "import json\n",
        "from pathlib import Path\n",
        "import zipfile\n",
        "import email\n",
        "from email.policy import default\n",
        "from email.parser import Parser\n",
        "from datetime import timezone\n",
        "from collections import namedtuple\n",
        "\n",
        "import pandas as pd\n",
        "from bs4 import BeautifulSoup\n",
        "from dateutil.parser import parse\n",
        "from chardet.universaldetector import UniversalDetector\n",
        "\n",
        "from pyspark.ml import Pipeline\n",
        "from pyspark.ml.feature import CountVectorizer\n",
        "from pyspark.ml.feature import HashingTF, Tokenizer\n",
        "from pyspark.sql import SparkSession\n",
        "from pyspark.sql.functions import col\n",
        "from pyspark.ml.pipeline import Transformer\n",
        "from pyspark.sql.functions import udf\n",
        "from pyspark.sql.types import StructType, StructField, StringType\n",
        "\n",
        "import pandas as pd\n",
        "\n",
        "current_dir = Path(os.getcwd()).absolute()\n",
        "results_dir = current_dir.joinpath('results')\n",
        "results_dir.mkdir(parents=True, exist_ok=True)\n",
        "data_dir = current_dir.joinpath('data')\n",
        "data_dir.mkdir(parents=True, exist_ok=True)\n",
        "enron_data_dir = data_dir.joinpath('enron')\n",
        "\n",
        "output_columns = [\n",
        "        'payload',\n",
        "        'text',\n",
        "        'Message_D',\n",
        "        'Date',\n",
        "        'From',\n",
        "        'To',\n",
        "        'Subject',\n",
        "        'Mime-Version',\n",
        "        'Content-Type',\n",
        "        'Content-Transfer-Encoding',\n",
        "        'X-From',\n",
        "        'X-To',\n",
        "        'X-cc',\n",
        "        'X-bcc',\n",
        "        'X-Folder',\n",
        "        'X-Origin',\n",
        "        'X-FileName',\n",
        "        'Cc',\n",
        "        'Bcc' \n",
        "]\n",
        "\n",
        "columns = [column.replace('-', '_') for column in output_columns]\n",
        "\n",
        "ParsedEmail = namedtuple('ParsedEmail', columns)\n",
        "\n",
        "spark = SparkSession\\\n",
        "    .builder\\\n",
        "    .appName(\"Assignment04\")\\\n",
        "    .getOrCreate()"
      ],
      "metadata": {
        "id": "1e4zEZuc4um5"
      },
      "execution_count": 4,
      "outputs": []
    },
    {
      "cell_type": "markdown",
      "source": [
        "## Assignment 4.1"
      ],
      "metadata": {
        "id": "EfDnMdZE5BPA"
      }
    },
    {
      "cell_type": "code",
      "source": [
        "def read_raw_email(email_path):\n",
        "    detector = UniversalDetector()\n",
        "    \n",
        "    try:\n",
        "        with open(email_path) as f:\n",
        "            original_msg = f.read()\n",
        "    except UnicodeDecodeError:\n",
        "        detector.reset()\n",
        "        with open(email_path, 'rb') as f:\n",
        "            for line in f.readlines():\n",
        "                detector.feed(line)\n",
        "                if detector.done:\n",
        "                    break\n",
        "        detector.close()\n",
        "        encoding = detector.result['encoding']\n",
        "        with open(email_path, encoding=encoding) as f:\n",
        "            original_msg = f.read()\n",
        "            \n",
        "    return original_msg \n",
        "\n",
        "def make_spark_df():\n",
        "    records = []\n",
        "\n",
        "    for root, dirs, files in os.walk(enron_data_dir):\n",
        "        for file_path in files:\n",
        "            ## Current path is now the file path to the current email.  \n",
        "            current_path = Path(root).joinpath(file_path)\n",
        "\n",
        "            ## Use this path to read the following information\n",
        "            record = {}\n",
        "\n",
        "            # get id (The relative path of the email message)\n",
        "            record['id'] = os.path.relpath(current_path, os.path.dirname(os.path.dirname(root)))\n",
        "            \n",
        "            # get username (Hint: It is the root folder)\n",
        "            record['username'] = root.rsplit('/', 2)[-2]\n",
        "            \n",
        "            # get original message\n",
        "            record['original_msg'] = read_raw_email(str(current_path))\n",
        "\n",
        "            records.append(record)\n",
        "            \n",
        "    ## TODO: Complete the code to create the Spark dataframe\n",
        "    email_schema = StructType([\n",
        "        StructField(\"id\", StringType(), True),\n",
        "        StructField(\"username\", StringType(), True),\n",
        "        StructField(\"original_msg\", StringType(), True)\n",
        "    ])\n",
        "\n",
        "    return spark.createDataFrame(records, email_schema)\n",
        "\n",
        "df = make_spark_df()"
      ],
      "metadata": {
        "id": "4fH00KoL5Dxi"
      },
      "execution_count": 5,
      "outputs": []
    },
    {
      "cell_type": "code",
      "source": [
        "df.show()"
      ],
      "metadata": {
        "colab": {
          "base_uri": "https://localhost:8080/",
          "height": 0
        },
        "id": "cUaAKBNgLdEn",
        "outputId": "08c52648-436e-4cea-bf96-2666db56b2fa"
      },
      "execution_count": 6,
      "outputs": [
        {
          "output_type": "stream",
          "name": "stdout",
          "text": [
            "+--------------------+--------+--------------------+\n",
            "|                  id|username|        original_msg|\n",
            "+--------------------+--------+--------------------+\n",
            "|davis-d/all_docum...| davis-d|Message-ID: <1098...|\n",
            "|davis-d/all_docum...| davis-d|Message-ID: <5201...|\n",
            "|davis-d/all_docum...| davis-d|Message-ID: <8786...|\n",
            "|davis-d/all_docum...| davis-d|Message-ID: <1957...|\n",
            "|davis-d/all_docum...| davis-d|Message-ID: <7671...|\n",
            "|davis-d/all_docum...| davis-d|Message-ID: <1404...|\n",
            "|davis-d/all_docum...| davis-d|Message-ID: <1086...|\n",
            "|davis-d/all_docum...| davis-d|Message-ID: <1756...|\n",
            "|davis-d/all_docum...| davis-d|Message-ID: <4468...|\n",
            "|davis-d/all_docum...| davis-d|Message-ID: <7842...|\n",
            "|davis-d/all_docum...| davis-d|Message-ID: <5659...|\n",
            "|davis-d/all_docum...| davis-d|Message-ID: <2923...|\n",
            "|davis-d/all_docum...| davis-d|Message-ID: <2644...|\n",
            "|davis-d/all_docum...| davis-d|Message-ID: <8150...|\n",
            "|davis-d/all_docum...| davis-d|Message-ID: <1163...|\n",
            "|davis-d/all_docum...| davis-d|Message-ID: <1214...|\n",
            "|davis-d/all_docum...| davis-d|Message-ID: <1173...|\n",
            "|davis-d/all_docum...| davis-d|Message-ID: <1230...|\n",
            "|davis-d/all_docum...| davis-d|Message-ID: <2728...|\n",
            "|davis-d/all_docum...| davis-d|Message-ID: <2689...|\n",
            "+--------------------+--------+--------------------+\n",
            "only showing top 20 rows\n",
            "\n"
          ]
        }
      ]
    },
    {
      "cell_type": "code",
      "source": [
        "df.printSchema()"
      ],
      "metadata": {
        "colab": {
          "base_uri": "https://localhost:8080/",
          "height": 0
        },
        "id": "tgGGDh8J5R7k",
        "outputId": "10751ee8-340a-4692-a721-06de773c3d62"
      },
      "execution_count": 7,
      "outputs": [
        {
          "output_type": "stream",
          "name": "stdout",
          "text": [
            "root\n",
            " |-- id: string (nullable = true)\n",
            " |-- username: string (nullable = true)\n",
            " |-- original_msg: string (nullable = true)\n",
            "\n"
          ]
        }
      ]
    },
    {
      "cell_type": "markdown",
      "source": [
        "## Assignment 4.2"
      ],
      "metadata": {
        "id": "eb3sjTt85jbJ"
      }
    },
    {
      "cell_type": "markdown",
      "source": [
        "Use plain_msg_example and html_msg_example to create a function that parses an email message."
      ],
      "metadata": {
        "id": "yexQe94G5iSX"
      }
    },
    {
      "cell_type": "code",
      "source": [
        "plain_msg_example = \"\"\"\n",
        "Message-ID: <6742786.1075845426893.JavaMail.evans@thyme>\n",
        "Date: Thu, 7 Jun 2001 11:05:33 -0700 (PDT)\n",
        "From: jeffrey.hammad@enron.com\n",
        "To: andy.zipper@enron.com\n",
        "Subject: Thanks for the interview\n",
        "Mime-Version: 1.0\n",
        "Content-Type: text/plain; charset=us-ascii\n",
        "Content-Transfer-Encoding: 7bit\n",
        "X-From: Hammad, Jeffrey </O=ENRON/OU=NA/CN=RECIPIENTS/CN=NOTESADDR/CN=CBBE377A-24F58854-862567DD-591AE7>\n",
        "X-To: Zipper, Andy </O=ENRON/OU=NA/CN=RECIPIENTS/CN=AZIPPER>\n",
        "X-cc: \n",
        "X-bcc: \n",
        "X-Folder: \\Zipper, Andy\\Zipper, Andy\\Inbox\n",
        "X-Origin: ZIPPER-A\n",
        "X-FileName: Zipper, Andy.pst\n",
        "\n",
        "Andy,\n",
        "\n",
        "Thanks for giving me the opportunity to meet with you about the Analyst/ Associate program.  I enjoyed talking to you, and look forward to contributing to the success that the program has enjoyed.  \n",
        "\n",
        "Thanks and Best Regards,\n",
        "\n",
        "Jeff Hammad\n",
        "\"\"\"\n",
        "\n",
        "html_msg_example = \"\"\"\n",
        "Message-ID: <21013632.1075862392611.JavaMail.evans@thyme>\n",
        "Date: Mon, 19 Nov 2001 12:15:44 -0800 (PST)\n",
        "From: insynconline.6jy5ympb.d@insync-palm.com\n",
        "To: tstaab@enron.com\n",
        "Subject: Last chance for special offer on Palm OS Upgrade!\n",
        "Mime-Version: 1.0\n",
        "Content-Type: text/plain; charset=us-ascii\n",
        "Content-Transfer-Encoding: 7bit\n",
        "X-From: InSync Online <InSyncOnline.6jy5ympb.d@insync-palm.com>\n",
        "X-To: THERESA STAAB <tstaab@enron.com>\n",
        "X-cc: \n",
        "X-bcc: \n",
        "X-Folder: \\TSTAAB (Non-Privileged)\\Staab, Theresa\\Deleted Items\n",
        "X-Origin: Staab-T\n",
        "X-FileName: TSTAAB (Non-Privileged).pst\n",
        "\n",
        "<html>\n",
        "\n",
        "<html>\n",
        "<head>\n",
        "<title>Paprika</title>\n",
        "<meta http-equiv=\"Content-Type\" content=\"text/html;\">\n",
        "</head>\n",
        "<body bgcolor=\"#FFFFFF\" TEXT=\"#333333\" LINK=\"#336699\" VLINK=\"#6699cc\" ALINK=\"#ff9900\">\n",
        "<table border=\"0\" cellpadding=\"0\" cellspacing=\"0\" width=\"582\">\n",
        "<tr valign=\"top\">\n",
        "  <td width=\"582\" colspan=\"9\"><nobr><a href=\"http://insync-online.p04.com/u.d?BEReaQA5eczXB=1\"><img src=\"http://images4.postdirect.com/master-images/404707/upper_left.gif\" alt=\"\" width=\"103\" height=\"110\" hspace=\"0\" vspace=\"0\" border=\"0\"></a><a href=\"http://insync-online.p04.com/u.d?AkReaQA5eczXE=11\"><img src=\"http://images4.postdirect.com/master-images/404707/upper_right.gif\" alt=\"\" width=\"479\" height=\"110\" hspace=\"0\" vspace=\"0\" border=\"0\"></a></nobr></td>\n",
        "</tr>\n",
        "<tr valign=\"top\">\n",
        "  <td width=\"4\" bgcolor=\"#CCCCCC\"><img src=\"http://images4.postdirect.com/master-images/404707/clear.gif\" width=\"4\" height=\"1\" hspace=\"0\" vspace=\"0\" border=\"0\" alt=\"\"></td>\n",
        "  <td width=\"20\"><img src=\"http://images4.postdirect.com/master-images/404707/clear.gif\" width=\"20\" height=\"1\" hspace=\"0\" vspace=\"0\" border=\"0\" alt=\"\"></td>\n",
        "  <td width=\"165\"><br><a href=\"http://insync-online.p04.com/u.d?LkReaQA5eczXL=21\"><img src=\"http://images4.postdirect.com/master-images/404707/screen1.gif\" alt=\"\" width=\"165\" height=\"159\" hspace=\"0\" vspace=\"0\" border=\"0\"></a><br><img src=\"http://images4.postdirect.com/master-images/404707/screen1_text.gif\" alt=\"\" width=\"93\" height=\"26\" hspace=\"0\" vspace=\"0\" border=\"0\"></td>\n",
        "  <td width=\"20\"><img src=\"http://images4.postdirect.com/master-images/404707/clear.gif\" width=\"20\" height=\"1\" hspace=\"0\" vspace=\"0\" border=\"0\" alt=\"\"></td>\n",
        "  <td width=\"165\"><br><a href=\"http://insync-online.p04.com/u.d?BkReaQA5eczXO=31\"><img src=\"http://images4.postdirect.com/master-images/404707/screen2.gif\" alt=\"\" width=\"165\" height=\"159\" hspace=\"0\" vspace=\"0\" border=\"0\"></a><br><img src=\"http://images4.postdirect.com/master-images/404707/screen2_text.gif\" alt=\"\" width=\"93\" height=\"26\" hspace=\"0\" vspace=\"0\" border=\"0\"></td>\n",
        "  <td width=\"20\"><img src=\"http://images4.postdirect.com/master-images/404707/clear.gif\" width=\"20\" height=\"1\" hspace=\"0\" vspace=\"0\" border=\"0\" alt=\"\"></td>\n",
        "  <td width=\"165\"><br><a href=\"http://insync-online.p04.com/u.d?JkReaQA5eczXRs=41\"><img src=\"http://images4.postdirect.com/master-images/404707/screen3.gif\" alt=\"\" width=\"165\" height=\"159\" hspace=\"0\" vspace=\"0\" border=\"0\"></a><br><img src=\"http://images4.postdirect.com/master-images/404707/screen3_text.gif\" alt=\"\" width=\"93\" height=\"26\" hspace=\"0\" vspace=\"0\" border=\"0\"></td>\n",
        "  <td width=\"19\"><img src=\"http://images4.postdirect.com/master-images/404707/clear.gif\" width=\"19\" height=\"1\" hspace=\"0\" vspace=\"0\" border=\"0\" alt=\"\"></td>\n",
        "  <td width=\"4\" bgcolor=\"#CCCCCC\"><img src=\"http://images4.postdirect.com/master-images/404707/clear.gif\" width=\"4\" height=\"1\" hspace=\"0\" vspace=\"0\" border=\"0\" alt=\"\"></td>\n",
        "</tr>\n",
        "</table>\n",
        "<table border=\"0\" cellpadding=\"0\" cellspacing=\"0\" width=\"582\">\n",
        "<tr valign=\"top\">\n",
        "  <td width=\"4\" bgcolor=\"#CCCCCC\"><img src=\"http://images4.postdirect.com/master-images/404707/clear.gif\" width=\"4\" height=\"1\" hspace=\"0\" vspace=\"0\" border=\"0\" alt=\"\"></td>\n",
        "  <td width=\"574\"><br>\n",
        "    <table border=\"0\" cellpadding=\"0\" cellspacing=\"0\" width=\"574\" bgcolor=\"#99ccff\">\n",
        "    <tr>\n",
        "      <td width=\"50\"><img src=\"http://images4.postdirect.com/master-images/404707/clear.gif\" width=\"50\" height=\"1\" hspace=\"0\" vspace=\"0\" border=\"0\" alt=\"\"></td>\n",
        "      <td width=\"474\"><font face=\"verdana, arial\" size=\"-2\"color=\"#000000\">\n",
        "        <br>\n",
        "        Dear THERESA,\n",
        "        <br><br>\n",
        "        Due to overwhelming demand for the Palm OS&#174; v4.1 Upgrade with Mobile Connectivity, we are \n",
        "        extending the special offer of 25% off through November 30, 2001. So there's still time to significantly \n",
        "        increase the functionality of your Palm&#153; III, IIIx, IIIxe, IIIc, V or Vx handheld. Step up to the \n",
        "        new Palm OS v4.1 through this extended special offer. You'll receive the brand new Palm OS v4.1 \n",
        "        <b>for just $29.95 when you use Promo Code <font color=\"#FF0000\">OS41WAVE</font></b>. That's a \n",
        "        <b>$10 savings</b> off the list price. \n",
        "        <br><br>\n",
        "        <a href=\"http://insync-online.p04.com/u.d?NkReaQA5eczXRh=51\">Click here to view a full product demo now</a>.\n",
        "        <br><br>\n",
        "        <a href=\"http://insync-online.p04.com/u.d?MkReaQA5eczXRm=61\"><img src=\"http://images4.postdirect.com/master-images/404707/title1.gif\" alt=\"\" width=\"336\" height=\"20\" hspace=\"0\" vspace=\"0\" border=\"0\"></a>\n",
        "        <br><br>\n",
        "        You can do a lot more with your Palm&#153; handheld when you upgrade to the Palm OS v4.1. All your \n",
        "        favorite features just got even better and there are some terrific new additions:\n",
        "        <br><br>\n",
        "        <LI> Handwrite notes and even draw pictures right on your Palm&#153 handheld</LI>\n",
        "        <LI> Tap letters with your stylus and use Graffiti&#174; at the same time with the enhanced onscreen keyboard</LI>\n",
        "        <LI> Improved Date Book functionality lets you view, snooze or clear multiple alarms all with a single tap </LI>\n",
        "        <LI> You can easily change time-zone settings</LI>\n",
        "        \n",
        "        <br><br>\n",
        "        <a href=\"http://insync-online.p04.com/u.d?WkReaQA5eczXRb=71\"><img src=\"http://images4.postdirect.com/master-images/404707/title2.gif\" alt=\"\" width=\"460\" height=\"20\" hspace=\"0\" vspace=\"0\" border=\"0\"></a>\n",
        "        <br><br>\n",
        "        <LI> <nobr>Mask/unmask</nobr> private records or hide/unhide directly within the application</LI>\n",
        "        <LI> Lock your device automatically at a designated time using the new Autolocking feature</LI>\n",
        "        <LI> Always remember your password with our new Hint feature*</LI>\n",
        "        \n",
        "        <br><br>\n",
        "        <a href=\"http://insync-online.p04.com/u.d?VEReaQA5eczXRQ=81\"><img src=\"http://images4.postdirect.com/master-images/404707/title3.gif\" alt=\"\" width=\"461\" height=\"31\" hspace=\"0\" vspace=\"0\" border=\"0\"></a>\n",
        "        <br><br>\n",
        "        <LI> Use your GSM compatible mobile phone or modem to get online and access the web</LI>\n",
        "        <LI> Stay connected with email, instant messaging and text messaging to GSM mobile phones</LI>\n",
        "        <LI> Send applications or records through your cell phone to schedule meetings and even \"beam\" \n",
        "             important information to others</LI>\n",
        "        \n",
        "        <br><br>\n",
        "        All this comes in a new operating system that can be yours for just $29.95! <a href=\"http://insync-online.p04.com/u.d?MkReaQA5eczXRV=91\">Click here to \n",
        "        upgrade to the new Palm&#153; OS v4.1</a> and you'll also get the latest Palm desktop software. Or call \n",
        "        <nobr>1-800-881-7256</nobr> to order via phone. \n",
        "        <br><br>\n",
        "        Sincerely,<br>\n",
        "        The Palm Team\n",
        "        <br><br>\n",
        "        P.S. Remember, this extended offer opportunity of 25% savings absolutely ends on November 30, 2001 \n",
        "        and is only available through the Palm Store when you use Promo Code <b><font color=\"#FF0000\">OS41WAVE</font></b>.\n",
        "        <br><br>\n",
        "        <img src=\"http://images4.postdirect.com/master-images/404707/bottom_button.gif\" align=\"right\" alt=\"\" width=\"295\" height=\"60\" hspace=\"0\" vspace=\"0\" border=\"0\">\n",
        "        <br><img src=\"http://images4.postdirect.com/master-images/404707/clear.gif\" width=\"474\" height=\"1\" hspace=\"0\" vspace=\"0\" border=\"0\" alt=\"\">\n",
        "        </font></td>\n",
        "      <td width=\"50\"><img src=\"http://images4.postdirect.com/master-images/404707/clear.gif\" width=\"50\" height=\"1\" hspace=\"0\" vspace=\"0\" border=\"0\" alt=\"\"></td>\n",
        "    </tr>\n",
        "    </table></td>\n",
        "    <td width=\"4\" bgcolor=\"#CCCCCC\"><img src=\"http://images4.postdirect.com/master-images/404707/clear.gif\" width=\"4\" height=\"1\" hspace=\"0\" vspace=\"0\" border=\"0\" alt=\"\"></td>\n",
        "  </tr>\n",
        "  <tr>\n",
        "  <td colspan=\"3\"><img src=\"http://images4.postdirect.com/master-images/404707/bottom.gif\" width=\"582\" height=\"67\" hspace=\"0\" vspace=\"0\" border=\"0\"></td>\n",
        "  </tr>\n",
        "</table>\n",
        "<table border=\"0\" cellpadding=\"0\" cellspacing=\"0\" width=\"582\">\n",
        "  <tr>\n",
        "    <td width=\"54\"><img src=\"http://images4.postdirect.com/master-images/404707/clear.gif\" width=\"54\" height=\"1\" hspace=\"0\" vspace=\"0\" border=\"0\" alt=\"\"></td>\n",
        "    <td width=\"474\"><font face=\"arial, verdana\" size=\"-2\" color=\"#000000\"><br>\n",
        "    * This feature is available on the Palm&#153; IIIx, Palm&#153; IIIxe, and Palm&#153; Vx. <br><br>\n",
        "    ** Note: To use the MIK functionality, you need either a Palm OS&#174; compatible modem or a phone \n",
        "    with  <nobr>built-in</nobr> modem or data capability that has either an infrared port or cable exits.  If you \n",
        "    are using a phone, you must have data services from your mobile service provider.  <a href=\"http://insync-online.p04.com/u.d?RkReaQA5eczXRK=101\">Click here</a> for \n",
        "    a list of tested and supported phones that you can use with the MIK. Cable not provided.\n",
        "    <br><br>\n",
        "    ------------------<br>\n",
        "    To modify your profile or unsubscribe from Palm newsletters, <a href=\"http://insync-online.p04.com/u.d?KkReaQA5eczXRE=121\">click here</a>. \n",
        "    Or, unsubscribe by replying to this message, with \"unsubscribe\" as the subject line of the message. \n",
        "    <br><br>\n",
        "    ------------------<br>\n",
        "    Copyright&#169; 2001 Palm, Inc. Palm OS, Palm Computing, HandFAX, HandSTAMP, HandWEB, Graffiti, \n",
        "    HotSync, iMessenger, MultiMail, Palm.Net, PalmConnect, PalmGlove, PalmModem, PalmPoint, PalmPrint, \n",
        "    and the Palm Platform Compatible Logo are registered trademarks of Palm, Inc. Palm, the Palm logo, \n",
        "    AnyDay, EventClub, HandMAIL, the HotSync Logo, PalmGear, PalmGlove, PalmPix, Palm Powered, the Palm \n",
        "    trade dress, PalmSource, Smartcode, and Simply Palm are trademarks of Palm, Inc. All other brands and \n",
        "    product names may be trademarks or registered trademarks of their respective owners.</font>\n",
        "    <img src=\"http://images4.postdirect.com/master-images/404707/clear.gif\" width=\"474\" height=\"1\" hspace=\"0\" vspace=\"0\" border=\"0\" alt=\"\"></td>\n",
        "    <td width=\"54\"><img src=\"http://images4.postdirect.com/master-images/404707/clear.gif\" width=\"54\" height=\"1\" hspace=\"0\" vspace=\"0\" border=\"0\" alt=\"\"></td>\n",
        "  </tr>\n",
        "</table><br><br><br><br>\n",
        "<!-- The following image is included for message detection -->\n",
        "<img src=\"http://p04.com/1x1.dyn\" border=\"0\" alt=\"\" width=\"1\" height=\"1\">\n",
        "<img src=\"http://p04.com/1x1.dyn?0vEGou8Ig30ba2L2bLn\" width=1 height=1></body>\n",
        "</html>\n",
        "\n",
        "</html>\n",
        "\"\"\"\n",
        "plain_msg_example = plain_msg_example.strip()\n",
        "html_msg_example = html_msg_example.strip()"
      ],
      "metadata": {
        "id": "vMgpOXb05uab"
      },
      "execution_count": 8,
      "outputs": []
    },
    {
      "cell_type": "code",
      "source": [
        "def parse_html_payload(payload):\n",
        "    \"\"\"\n",
        "    This function uses Beautiful Soup to read HTML data\n",
        "    and return the text.  If the payload is plain text, then\n",
        "    Beautiful Soup will return the original content\n",
        "    \"\"\"\n",
        "    soup = BeautifulSoup(payload, 'html.parser')\n",
        "    return str(soup.get_text()).encode('utf-8').decode('utf-8')\n",
        "\n",
        "def parse_email(original_msg):\n",
        "    result = {}\n",
        "    msg = Parser(policy=default).parsestr(original_msg)\n",
        "    \n",
        "    ## TODO: Use Python's email library to read the payload and the headers\n",
        "    ## https://docs.python.org/3/library/email.examples.html\n",
        "    \n",
        "    # get email body content from parsed 'original msg'\n",
        "    result['payload'] = msg.get_payload()\n",
        "    \n",
        "    # extract text from email body 'payload'\n",
        "    result['text'] = parse_html_payload(result['payload'])\n",
        "    \n",
        "    try:\n",
        "        for key, value in msg.items():\n",
        "            result[key.replace('-', '_')] = value\n",
        "    except Exception as e:\n",
        "        print(f'Problem parsing email: email_path e')\n",
        "        \n",
        "    try:\n",
        "        result['Date'] = parse(result['Date'], ignoretz = False).isoformat()\n",
        "    except Exception as e:\n",
        "        print(f\"Problem converting date: {result.get('date')} {e}\")\n",
        "    \n",
        "    tuple_result = tuple([str(result.get(column, None)) for column in columns])\n",
        "    \n",
        "    return ParsedEmail(*tuple_result)"
      ],
      "metadata": {
        "id": "CDi9JD8c6kve"
      },
      "execution_count": 9,
      "outputs": []
    },
    {
      "cell_type": "code",
      "source": [
        "parsed_msg = parse_email(plain_msg_example)"
      ],
      "metadata": {
        "colab": {
          "base_uri": "https://localhost:8080/",
          "height": 0
        },
        "id": "1rrDxkxu6rno",
        "outputId": "3d1bec4e-4770-4182-bd72-beba5d623fa6"
      },
      "execution_count": 10,
      "outputs": [
        {
          "output_type": "stream",
          "name": "stderr",
          "text": [
            "<ipython-input-9-9046de64f67e>:7: MarkupResemblesLocatorWarning: The input looks more like a filename than markup. You may want to open this file and pass the filehandle into Beautiful Soup.\n",
            "  soup = BeautifulSoup(payload, 'html.parser')\n"
          ]
        }
      ]
    },
    {
      "cell_type": "code",
      "source": [
        "print(parsed_msg.text)"
      ],
      "metadata": {
        "colab": {
          "base_uri": "https://localhost:8080/",
          "height": 0
        },
        "id": "YfDIOxOW6vIf",
        "outputId": "0b63ecc9-93f1-4f1b-d2dd-5c25811636d3"
      },
      "execution_count": 11,
      "outputs": [
        {
          "output_type": "stream",
          "name": "stdout",
          "text": [
            "Andy,\n",
            "\n",
            "Thanks for giving me the opportunity to meet with you about the Analyst/ Associate program.  I enjoyed talking to you, and look forward to contributing to the success that the program has enjoyed.  \n",
            "\n",
            "Thanks and Best Regards,\n",
            "\n",
            "Jeff Hammad\n"
          ]
        }
      ]
    },
    {
      "cell_type": "code",
      "source": [
        "parsed_html_msg = parse_email(html_msg_example)"
      ],
      "metadata": {
        "id": "N9PEcStc61F5"
      },
      "execution_count": 12,
      "outputs": []
    },
    {
      "cell_type": "code",
      "source": [
        "print(parsed_html_msg.text)"
      ],
      "metadata": {
        "colab": {
          "base_uri": "https://localhost:8080/",
          "height": 0
        },
        "id": "SzlmQhPv66os",
        "outputId": "82a2cfba-29eb-49d8-807d-06b31d5c63e5"
      },
      "execution_count": 13,
      "outputs": [
        {
          "output_type": "stream",
          "name": "stdout",
          "text": [
            "\n",
            "\n",
            "\n",
            "Paprika\n",
            "\n",
            "\n",
            "\n",
            "\n",
            "\n",
            "\n",
            "\n",
            "\n",
            "\n",
            "\n",
            "\n",
            "\n",
            "\n",
            "\n",
            "\n",
            "\n",
            "\n",
            "\n",
            "\n",
            "\n",
            "\n",
            "\n",
            "\n",
            "\n",
            "\n",
            "\n",
            "\n",
            "\n",
            "        Dear THERESA,\n",
            "        \n",
            "        Due to overwhelming demand for the Palm OS® v4.1 Upgrade with Mobile Connectivity, we are \n",
            "        extending the special offer of 25% off through November 30, 2001. So there's still time to significantly \n",
            "        increase the functionality of your Palm™ III, IIIx, IIIxe, IIIc, V or Vx handheld. Step up to the \n",
            "        new Palm OS v4.1 through this extended special offer. You'll receive the brand new Palm OS v4.1 \n",
            "        for just $29.95 when you use Promo Code OS41WAVE. That's a \n",
            "        $10 savings off the list price. \n",
            "        \n",
            "Click here to view a full product demo now.\n",
            "        \n",
            "\n",
            "\n",
            "        You can do a lot more with your Palm™ handheld when you upgrade to the Palm OS v4.1. All your \n",
            "        favorite features just got even better and there are some terrific new additions:\n",
            "        \n",
            " Handwrite notes and even draw pictures right on your Palm™ handheld\n",
            " Tap letters with your stylus and use Graffiti® at the same time with the enhanced onscreen keyboard\n",
            " Improved Date Book functionality lets you view, snooze or clear multiple alarms all with a single tap \n",
            " You can easily change time-zone settings\n",
            "\n",
            "\n",
            "\n",
            " Mask/unmask private records or hide/unhide directly within the application\n",
            " Lock your device automatically at a designated time using the new Autolocking feature\n",
            " Always remember your password with our new Hint feature*\n",
            "\n",
            "\n",
            "\n",
            " Use your GSM compatible mobile phone or modem to get online and access the web\n",
            " Stay connected with email, instant messaging and text messaging to GSM mobile phones\n",
            " Send applications or records through your cell phone to schedule meetings and even \"beam\" \n",
            "             important information to others\n",
            "\n",
            "        All this comes in a new operating system that can be yours for just $29.95! Click here to \n",
            "        upgrade to the new Palm™ OS v4.1 and you'll also get the latest Palm desktop software. Or call \n",
            "        1-800-881-7256 to order via phone. \n",
            "        \n",
            "        Sincerely,\n",
            "        The Palm Team\n",
            "        \n",
            "        P.S. Remember, this extended offer opportunity of 25% savings absolutely ends on November 30, 2001 \n",
            "        and is only available through the Palm Store when you use Promo Code OS41WAVE.\n",
            "        \n",
            "\n",
            "\n",
            "\n",
            "\n",
            "\n",
            "\n",
            "\n",
            "\n",
            "\n",
            "\n",
            "\n",
            "\n",
            "\n",
            "\n",
            "\n",
            "\n",
            "    * This feature is available on the Palm™ IIIx, Palm™ IIIxe, and Palm™ Vx. \n",
            "    ** Note: To use the MIK functionality, you need either a Palm OS® compatible modem or a phone \n",
            "    with  built-in modem or data capability that has either an infrared port or cable exits.  If you \n",
            "    are using a phone, you must have data services from your mobile service provider.  Click here for \n",
            "    a list of tested and supported phones that you can use with the MIK. Cable not provided.\n",
            "    \n",
            "    ------------------\n",
            "    To modify your profile or unsubscribe from Palm newsletters, click here. \n",
            "    Or, unsubscribe by replying to this message, with \"unsubscribe\" as the subject line of the message. \n",
            "    \n",
            "    ------------------\n",
            "    Copyright© 2001 Palm, Inc. Palm OS, Palm Computing, HandFAX, HandSTAMP, HandWEB, Graffiti, \n",
            "    HotSync, iMessenger, MultiMail, Palm.Net, PalmConnect, PalmGlove, PalmModem, PalmPoint, PalmPrint, \n",
            "    and the Palm Platform Compatible Logo are registered trademarks of Palm, Inc. Palm, the Palm logo, \n",
            "    AnyDay, EventClub, HandMAIL, the HotSync Logo, PalmGear, PalmGlove, PalmPix, Palm Powered, the Palm \n",
            "    trade dress, PalmSource, Smartcode, and Simply Palm are trademarks of Palm, Inc. All other brands and \n",
            "    product names may be trademarks or registered trademarks of their respective owners.\n",
            "\n",
            "\n",
            "\n",
            "\n",
            "\n",
            "\n",
            "\n",
            "\n",
            "\n"
          ]
        }
      ]
    },
    {
      "cell_type": "code",
      "source": [],
      "metadata": {
        "id": "caQhnleI4F6O"
      },
      "execution_count": null,
      "outputs": []
    }
  ],
  "metadata": {
    "colab": {
      "provenance": []
    },
    "kernelspec": {
      "display_name": "Python 3",
      "name": "python3"
    }
  },
  "nbformat": 4,
  "nbformat_minor": 0
}