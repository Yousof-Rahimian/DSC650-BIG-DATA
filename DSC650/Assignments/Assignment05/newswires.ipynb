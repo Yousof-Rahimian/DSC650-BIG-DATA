{
 "cells": [
  {
   "cell_type": "markdown",
   "id": "77a378d7",
   "metadata": {},
   "source": [
    "## The Reuters Dataset\n",
    "Loading the Reuters dataset"
   ]
  },
  {
   "cell_type": "code",
   "execution_count": 1,
   "id": "8a66604f",
   "metadata": {},
   "outputs": [
    {
     "name": "stdout",
     "output_type": "stream",
     "text": [
      "Downloading data from https://storage.googleapis.com/tensorflow/tf-keras-datasets/reuters.npz\n",
      "2110848/2110848 [==============================] - 1s 0us/step\n"
     ]
    }
   ],
   "source": [
    "from keras.datasets import reuters\n",
    "\n",
    "(train_data, train_labels), (test_data, test_labels) = reuters.load_data(num_words = 10000)"
   ]
  },
  {
   "cell_type": "code",
   "execution_count": 2,
   "id": "df893b95",
   "metadata": {},
   "outputs": [
    {
     "data": {
      "text/plain": [
       "8982"
      ]
     },
     "execution_count": 2,
     "metadata": {},
     "output_type": "execute_result"
    }
   ],
   "source": [
    "len(train_data)"
   ]
  },
  {
   "cell_type": "code",
   "execution_count": 3,
   "id": "d589d189",
   "metadata": {},
   "outputs": [
    {
     "data": {
      "text/plain": [
       "2246"
      ]
     },
     "execution_count": 3,
     "metadata": {},
     "output_type": "execute_result"
    }
   ],
   "source": [
    "len(test_data)"
   ]
  },
  {
   "cell_type": "code",
   "execution_count": 4,
   "id": "376f8b91",
   "metadata": {},
   "outputs": [
    {
     "data": {
      "text/plain": [
       "[1,\n",
       " 245,\n",
       " 273,\n",
       " 207,\n",
       " 156,\n",
       " 53,\n",
       " 74,\n",
       " 160,\n",
       " 26,\n",
       " 14,\n",
       " 46,\n",
       " 296,\n",
       " 26,\n",
       " 39,\n",
       " 74,\n",
       " 2979,\n",
       " 3554,\n",
       " 14,\n",
       " 46,\n",
       " 4689,\n",
       " 4329,\n",
       " 86,\n",
       " 61,\n",
       " 3499,\n",
       " 4795,\n",
       " 14,\n",
       " 61,\n",
       " 451,\n",
       " 4329,\n",
       " 17,\n",
       " 12]"
      ]
     },
     "execution_count": 4,
     "metadata": {},
     "output_type": "execute_result"
    }
   ],
   "source": [
    "train_data[10]"
   ]
  },
  {
   "cell_type": "markdown",
   "id": "2a06bf22",
   "metadata": {},
   "source": [
    "Decoding newswires back to text"
   ]
  },
  {
   "cell_type": "code",
   "execution_count": 5,
   "id": "fdd5dc67",
   "metadata": {},
   "outputs": [
    {
     "name": "stdout",
     "output_type": "stream",
     "text": [
      "Downloading data from https://storage.googleapis.com/tensorflow/tf-keras-datasets/reuters_word_index.json\n",
      "550378/550378 [==============================] - 0s 1us/step\n"
     ]
    }
   ],
   "source": [
    "word_index = reuters.get_word_index()\n",
    "reverse_word_index = dict([(value, key) for (key, value) in word_index.items()])\n",
    "decoded_newswire = ' '.join([reverse_word_index.get(i - 3, '?') for i in train_data[0]])"
   ]
  },
  {
   "cell_type": "code",
   "execution_count": 6,
   "id": "1ecd5792",
   "metadata": {},
   "outputs": [
    {
     "data": {
      "text/plain": [
       "'? ? ? said as a result of its december acquisition of space co it expects earnings per share in 1987 of 1 15 to 1 30 dlrs per share up from 70 cts in 1986 the company said pretax net should rise to nine to 10 mln dlrs from six mln dlrs in 1986 and rental operation revenues to 19 to 22 mln dlrs from 12 5 mln dlrs it said cash flow per share this year should be 2 50 to three dlrs reuter 3'"
      ]
     },
     "execution_count": 6,
     "metadata": {},
     "output_type": "execute_result"
    }
   ],
   "source": [
    "decoded_newswire"
   ]
  },
  {
   "cell_type": "code",
   "execution_count": 7,
   "id": "a63f7e8e",
   "metadata": {},
   "outputs": [
    {
     "data": {
      "text/plain": [
       "3"
      ]
     },
     "execution_count": 7,
     "metadata": {},
     "output_type": "execute_result"
    }
   ],
   "source": [
    "train_labels[10]"
   ]
  },
  {
   "cell_type": "markdown",
   "id": "10027727",
   "metadata": {},
   "source": [
    "## Preparing the data\n",
    "Encoding the data"
   ]
  },
  {
   "cell_type": "code",
   "execution_count": 8,
   "id": "0a736e06",
   "metadata": {},
   "outputs": [],
   "source": [
    "import numpy as np\n",
    "\n",
    "def vectorize_sequences(sequences, dimension = 10000):\n",
    "    results = np.zeros((len(sequences), dimension))\n",
    "\n",
    "    for i, sequence in enumerate(sequences):\n",
    "        results[i, sequence] = 1\n",
    "\n",
    "    return results\n",
    "\n",
    "# vectorize training data\n",
    "x_train = vectorize_sequences(train_data)\n",
    "x_test = vectorize_sequences(test_data)"
   ]
  },
  {
   "cell_type": "code",
   "execution_count": 9,
   "id": "79538a21",
   "metadata": {},
   "outputs": [],
   "source": [
    "from keras.utils.np_utils import to_categorical\n",
    "\n",
    "# vectorize training labels\n",
    "one_hot_train_labels = to_categorical(train_labels)\n",
    "\n",
    "# vectorize test labels\n",
    "one_hot_test_labels = to_categorical(test_labels)"
   ]
  },
  {
   "cell_type": "markdown",
   "id": "93beeaa6",
   "metadata": {},
   "source": [
    "## Building your network\n",
    "Model definition\n",
    "\n"
   ]
  },
  {
   "cell_type": "code",
   "execution_count": 10,
   "id": "0f86b913",
   "metadata": {},
   "outputs": [],
   "source": [
    "from keras import models\n",
    "from keras import layers\n",
    "\n",
    "model = models.Sequential()\n",
    "model.add(layers.Dense(64, activation = 'relu', input_shape = (10000,)))\n",
    "model.add(layers.Dense(64, activation = 'relu'))\n",
    "model.add(layers.Dense(46, activation = 'softmax'))"
   ]
  },
  {
   "cell_type": "markdown",
   "id": "fc93dec5",
   "metadata": {},
   "source": [
    "Compiling the model\n",
    "\n"
   ]
  },
  {
   "cell_type": "code",
   "execution_count": 11,
   "id": "6abc18c5",
   "metadata": {},
   "outputs": [],
   "source": [
    "model.compile(optimizer = 'rmsprop',\n",
    "              loss = 'categorical_crossentropy',\n",
    "              metrics = ['accuracy'])"
   ]
  },
  {
   "cell_type": "markdown",
   "id": "dcca8c9f",
   "metadata": {},
   "source": [
    "## Validating your approach\n",
    "Setting aside a validation set"
   ]
  },
  {
   "cell_type": "code",
   "execution_count": 13,
   "id": "3bb6e5ce",
   "metadata": {},
   "outputs": [],
   "source": [
    "x_val = x_train[:1000]\n",
    "partial_x_train = x_train[1000:]\n",
    "\n",
    "y_val = one_hot_train_labels[:1000]\n",
    "partial_y_train = one_hot_train_labels[1000:]"
   ]
  },
  {
   "cell_type": "markdown",
   "id": "29a62f80",
   "metadata": {},
   "source": [
    "Training the model"
   ]
  },
  {
   "cell_type": "code",
   "execution_count": 14,
   "id": "49998c56",
   "metadata": {},
   "outputs": [
    {
     "name": "stdout",
     "output_type": "stream",
     "text": [
      "Epoch 1/20\n",
      "16/16 [==============================] - 2s 47ms/step - loss: 2.5227 - accuracy: 0.5283 - val_loss: 1.6901 - val_accuracy: 0.6340\n",
      "Epoch 2/20\n",
      "16/16 [==============================] - 0s 30ms/step - loss: 1.3779 - accuracy: 0.7055 - val_loss: 1.3025 - val_accuracy: 0.7060\n",
      "Epoch 3/20\n",
      "16/16 [==============================] - 1s 31ms/step - loss: 1.0308 - accuracy: 0.7779 - val_loss: 1.1497 - val_accuracy: 0.7480\n",
      "Epoch 4/20\n",
      "16/16 [==============================] - 0s 30ms/step - loss: 0.8097 - accuracy: 0.8272 - val_loss: 1.0311 - val_accuracy: 0.7940\n",
      "Epoch 5/20\n",
      "16/16 [==============================] - 0s 29ms/step - loss: 0.6450 - accuracy: 0.8636 - val_loss: 0.9715 - val_accuracy: 0.7960\n",
      "Epoch 6/20\n",
      "16/16 [==============================] - 0s 30ms/step - loss: 0.5106 - accuracy: 0.8945 - val_loss: 0.9259 - val_accuracy: 0.8120\n",
      "Epoch 7/20\n",
      "16/16 [==============================] - 0s 31ms/step - loss: 0.4116 - accuracy: 0.9151 - val_loss: 0.8935 - val_accuracy: 0.8210\n",
      "Epoch 8/20\n",
      "16/16 [==============================] - 0s 29ms/step - loss: 0.3328 - accuracy: 0.9285 - val_loss: 0.8929 - val_accuracy: 0.8190\n",
      "Epoch 9/20\n",
      "16/16 [==============================] - 0s 29ms/step - loss: 0.2792 - accuracy: 0.9374 - val_loss: 0.8996 - val_accuracy: 0.8200\n",
      "Epoch 10/20\n",
      "16/16 [==============================] - 0s 29ms/step - loss: 0.2293 - accuracy: 0.9458 - val_loss: 0.9183 - val_accuracy: 0.8100\n",
      "Epoch 11/20\n",
      "16/16 [==============================] - 0s 29ms/step - loss: 0.2040 - accuracy: 0.9500 - val_loss: 0.9191 - val_accuracy: 0.8270\n",
      "Epoch 12/20\n",
      "16/16 [==============================] - 0s 29ms/step - loss: 0.1779 - accuracy: 0.9510 - val_loss: 1.0599 - val_accuracy: 0.7840\n",
      "Epoch 13/20\n",
      "16/16 [==============================] - 0s 30ms/step - loss: 0.1579 - accuracy: 0.9540 - val_loss: 0.9775 - val_accuracy: 0.8110\n",
      "Epoch 14/20\n",
      "16/16 [==============================] - 0s 29ms/step - loss: 0.1483 - accuracy: 0.9555 - val_loss: 1.0159 - val_accuracy: 0.8050\n",
      "Epoch 15/20\n",
      "16/16 [==============================] - 0s 28ms/step - loss: 0.1368 - accuracy: 0.9564 - val_loss: 0.9955 - val_accuracy: 0.8040\n",
      "Epoch 16/20\n",
      "16/16 [==============================] - 0s 29ms/step - loss: 0.1286 - accuracy: 0.9568 - val_loss: 1.0372 - val_accuracy: 0.8070\n",
      "Epoch 17/20\n",
      "16/16 [==============================] - 0s 28ms/step - loss: 0.1233 - accuracy: 0.9555 - val_loss: 1.0207 - val_accuracy: 0.8140\n",
      "Epoch 18/20\n",
      "16/16 [==============================] - 0s 28ms/step - loss: 0.1152 - accuracy: 0.9589 - val_loss: 1.0598 - val_accuracy: 0.8060\n",
      "Epoch 19/20\n",
      "16/16 [==============================] - 0s 28ms/step - loss: 0.1116 - accuracy: 0.9568 - val_loss: 1.0770 - val_accuracy: 0.8120\n",
      "Epoch 20/20\n",
      "16/16 [==============================] - 0s 29ms/step - loss: 0.1118 - accuracy: 0.9577 - val_loss: 1.0858 - val_accuracy: 0.8060\n"
     ]
    }
   ],
   "source": [
    "history = model.fit(partial_x_train,\n",
    "                    partial_y_train,\n",
    "                    epochs = 20,\n",
    "                    batch_size = 512,\n",
    "                    validation_data = (x_val, y_val))"
   ]
  },
  {
   "cell_type": "code",
   "execution_count": 15,
   "id": "d26fefbe",
   "metadata": {},
   "outputs": [
    {
     "data": {
      "text/plain": [
       "dict_keys(['loss', 'accuracy', 'val_loss', 'val_accuracy'])"
      ]
     },
     "execution_count": 15,
     "metadata": {},
     "output_type": "execute_result"
    }
   ],
   "source": [
    "history_dict = history.history\n",
    "history_dict.keys()"
   ]
  },
  {
   "cell_type": "markdown",
   "id": "70a11888",
   "metadata": {},
   "source": [
    "Plotting the training and validation loss"
   ]
  },
  {
   "cell_type": "code",
   "execution_count": 16,
   "id": "8e8da95e",
   "metadata": {},
   "outputs": [
    {
     "data": {
      "image/png": "[encoded data removed]",
      "text/plain": [
       "<Figure size 432x288 with 1 Axes>"
      ]
     },
     "metadata": {
      "needs_background": "light"
     },
     "output_type": "display_data"
    }
   ],
   "source": [
    "import matplotlib.pyplot as plt\n",
    "\n",
    "loss = history.history['loss']\n",
    "val_loss = history.history['val_loss']\n",
    "\n",
    "epochs = range(1, len(loss) + 1)\n",
    "\n",
    "plt.plot(epochs, loss, 'bo', label = 'Training loss')\n",
    "plt.plot(epochs, val_loss, 'b', label = 'Validation loss')\n",
    "plt.title('Training and Validation Loss')\n",
    "plt.xlabel('Epochs')\n",
    "plt.ylabel('Loss')\n",
    "plt.legend()\n",
    "\n",
    "plt.show()"
   ]
  },
  {
   "cell_type": "markdown",
   "id": "7860f3c6",
   "metadata": {},
   "source": [
    "Plotting the training and validation accuracy"
   ]
  },
  {
   "cell_type": "code",
   "execution_count": 17,
   "id": "646c2099",
   "metadata": {},
   "outputs": [
    {
     "data": {
      "image/png": "[encoded data removed]",
      "text/plain": [
       "<Figure size 432x288 with 1 Axes>"
      ]
     },
     "metadata": {
      "needs_background": "light"
     },
     "output_type": "display_data"
    }
   ],
   "source": [
    "plt.clf()\n",
    "\n",
    "acc = history.history['accuracy']\n",
    "val_acc = history.history['val_accuracy']\n",
    "\n",
    "plt.plot(epochs, acc, 'bo', label = 'Training acc')\n",
    "plt.plot(epochs, val_acc, 'b', label = 'Validation acc')\n",
    "plt.title('Training and Validation Accuracy')\n",
    "plt.xlabel('Epochs')\n",
    "plt.ylabel('Accuracy')\n",
    "plt.legend()\n",
    "\n",
    "plt.show()"
   ]
  },
  {
   "cell_type": "markdown",
   "id": "38cd80bc",
   "metadata": {},
   "source": [
    "Retraining a model from scratch"
   ]
  },
  {
   "cell_type": "code",
   "execution_count": 19,
   "id": "a644089f",
   "metadata": {},
   "outputs": [
    {
     "name": "stdout",
     "output_type": "stream",
     "text": [
      "Epoch 1/9\n",
      "16/16 [==============================] - 2s 43ms/step - loss: 2.6010 - accuracy: 0.5367 - val_loss: 1.6924 - val_accuracy: 0.6580\n",
      "Epoch 2/9\n",
      "16/16 [==============================] - 0s 31ms/step - loss: 1.3880 - accuracy: 0.7115 - val_loss: 1.2747 - val_accuracy: 0.7200\n",
      "Epoch 3/9\n",
      "16/16 [==============================] - 1s 34ms/step - loss: 1.0195 - accuracy: 0.7805 - val_loss: 1.1029 - val_accuracy: 0.7650\n",
      "Epoch 4/9\n",
      "16/16 [==============================] - 1s 43ms/step - loss: 0.7904 - accuracy: 0.8322 - val_loss: 1.0354 - val_accuracy: 0.7770\n",
      "Epoch 5/9\n",
      "16/16 [==============================] - 0s 30ms/step - loss: 0.6303 - accuracy: 0.8632 - val_loss: 0.9514 - val_accuracy: 0.7980\n",
      "Epoch 6/9\n",
      "16/16 [==============================] - 1s 32ms/step - loss: 0.5022 - accuracy: 0.8950 - val_loss: 0.9539 - val_accuracy: 0.7980\n",
      "Epoch 7/9\n",
      "16/16 [==============================] - 1s 34ms/step - loss: 0.4033 - accuracy: 0.9147 - val_loss: 0.9355 - val_accuracy: 0.8030\n",
      "Epoch 8/9\n",
      "16/16 [==============================] - 0s 28ms/step - loss: 0.3337 - accuracy: 0.9296 - val_loss: 0.9177 - val_accuracy: 0.8060\n",
      "Epoch 9/9\n",
      "16/16 [==============================] - 0s 29ms/step - loss: 0.2737 - accuracy: 0.9394 - val_loss: 0.9166 - val_accuracy: 0.8130\n",
      "71/71 [==============================] - 0s 3ms/step - loss: 0.9997 - accuracy: 0.7836\n"
     ]
    }
   ],
   "source": [
    "model = models.Sequential()\n",
    "model.add(layers.Dense(64, activation = 'relu', input_shape = (10000,)))\n",
    "model.add(layers.Dense(64, activation = 'relu'))\n",
    "model.add(layers.Dense(46, activation = 'softmax'))\n",
    "\n",
    "model.compile(optimizer = 'rmsprop',\n",
    "              loss = 'categorical_crossentropy',\n",
    "              metrics = ['accuracy'])\n",
    "\n",
    "history = model.fit(partial_x_train,\n",
    "                    partial_y_train,\n",
    "                    epochs = 9,\n",
    "                    batch_size = 512,\n",
    "                    validation_data = (x_val, y_val))\n",
    "\n",
    "results = model.evaluate(x_test, one_hot_test_labels)"
   ]
  },
  {
   "cell_type": "code",
   "execution_count": 20,
   "id": "1cea3687",
   "metadata": {},
   "outputs": [
    {
     "data": {
      "text/plain": [
       "[0.999726414680481, 0.7836152911186218]"
      ]
     },
     "execution_count": 20,
     "metadata": {},
     "output_type": "execute_result"
    }
   ],
   "source": [
    "results"
   ]
  },
  {
   "cell_type": "markdown",
   "id": "eacada83",
   "metadata": {},
   "source": [
    "Generating predictions"
   ]
  },
  {
   "cell_type": "code",
   "execution_count": 21,
   "id": "45385378",
   "metadata": {},
   "outputs": [
    {
     "name": "stdout",
     "output_type": "stream",
     "text": [
      "71/71 [==============================] - 0s 2ms/step\n"
     ]
    }
   ],
   "source": [
    "predictions = model.predict(x_test)"
   ]
  },
  {
   "cell_type": "code",
   "execution_count": 22,
   "id": "028103cf",
   "metadata": {},
   "outputs": [
    {
     "data": {
      "text/plain": [
       "(46,)"
      ]
     },
     "execution_count": 22,
     "metadata": {},
     "output_type": "execute_result"
    }
   ],
   "source": [
    "# each entry in predictions has a vecotry of length 46\n",
    "predictions[0].shape"
   ]
  },
  {
   "cell_type": "code",
   "execution_count": 23,
   "id": "31792fde",
   "metadata": {},
   "outputs": [
    {
     "data": {
      "text/plain": [
       "0.99999994"
      ]
     },
     "execution_count": 23,
     "metadata": {},
     "output_type": "execute_result"
    }
   ],
   "source": [
    "# The coefficients sum to 1\n",
    "np.sum(predictions[0])"
   ]
  },
  {
   "cell_type": "code",
   "execution_count": 24,
   "id": "b4ed41ec",
   "metadata": {},
   "outputs": [
    {
     "data": {
      "text/plain": [
       "3"
      ]
     },
     "execution_count": 24,
     "metadata": {},
     "output_type": "execute_result"
    }
   ],
   "source": [
    "# The largest entry is the predicted class - class with highest probability\n",
    "np.argmax(predictions[0])"
   ]
  },
  {
   "cell_type": "code",
   "execution_count": null,
   "id": "cd199920",
   "metadata": {},
   "outputs": [],
   "source": []
  }
 ],
 "metadata": {
  "kernelspec": {
   "display_name": "Python 3 (ipykernel)",
   "language": "python",
   "name": "python3"
  },
  "language_info": {
   "codemirror_mode": {
    "name": "ipython",
    "version": 3
   },
   "file_extension": ".py",
   "mimetype": "text/x-python",
   "name": "python",
   "nbconvert_exporter": "python",
   "pygments_lexer": "ipython3",
   "version": "3.9.7"
  }
 },
 "nbformat": 4,
 "nbformat_minor": 5
}
