{
 "cells": [
  {
   "cell_type": "markdown",
   "id": "e2d51998-9918-4e73-ab9b-6b6bd3cf7160",
   "metadata": {},
   "source": [
    "## Assignment 10\n",
    "### Yousof Rahimian"
   ]
  },
  {
   "cell_type": "markdown",
   "id": "180c9a10-7af8-4393-824e-b944cadf6f6f",
   "metadata": {},
   "source": [
    "### Assignment 10.1"
   ]
  },
  {
   "cell_type": "markdown",
   "id": "28944f47-a03d-45b1-8b01-7d748a27148c",
   "metadata": {},
   "source": [
    "**Implement basic text-preprocessing functions in Python. These functions do not need to scale to large text documents and will only need to handle small inputs.**"
   ]
  },
  {
   "cell_type": "markdown",
   "id": "f6c2ee16-f25d-4d44-8dac-91d9c88703e6",
   "metadata": {},
   "source": [
    "### 10.1.a"
   ]
  },
  {
   "cell_type": "markdown",
   "id": "fbdb3db7-35d7-49ca-9ba0-0f6c1d4c93a0",
   "metadata": {},
   "source": [
    "**Create a tokenize function that splits a sentence into words. Ensure that your tokenizer removes basic punctuation.**"
   ]
  },
  {
   "cell_type": "code",
   "execution_count": 1,
   "id": "6b9135e6-7815-40f0-b7d2-f4eeb2fb9645",
   "metadata": {},
   "outputs": [],
   "source": [
    "import string"
   ]
  },
  {
   "cell_type": "code",
   "execution_count": 2,
   "id": "8ebfd426-8041-4b3b-b037-e92c4fb3cbe0",
   "metadata": {},
   "outputs": [],
   "source": [
    "def tokenize(sentence):\n",
    "    tokens = []\n",
    "    \n",
    "    # split sentence into words by space\n",
    "    words = sentence.split()\n",
    "    \n",
    "    # convert to lowercase\n",
    "    words = [word.lower() for word in words]\n",
    "    \n",
    "    # remove punctuation\n",
    "    tokens = [word.translate(string.punctuation) for word in words]\n",
    "\n",
    "    return tokens"
   ]
  },
  {
   "cell_type": "code",
   "execution_count": 3,
   "id": "8aaf1dae-5536-45d4-ba60-d5fdde56da42",
   "metadata": {},
   "outputs": [
    {
     "data": {
      "text/plain": [
       "\"Two things are infinite: the universe and human stupidity; and I'm not sure about the universe.\""
      ]
     },
     "execution_count": 3,
     "metadata": {},
     "output_type": "execute_result"
    }
   ],
   "source": [
    "quote = \"Two things are infinite: the universe and human stupidity; and I'm not sure about the universe.\"\n",
    "quote"
   ]
  },
  {
   "cell_type": "code",
   "execution_count": 4,
   "id": "ab5dae4b-eb8b-4b91-9ac4-65ed06dacde1",
   "metadata": {},
   "outputs": [
    {
     "name": "stdout",
     "output_type": "stream",
     "text": [
      "['two', 'things', 'are', 'infinite:', 'the', 'universe', 'and', 'human', 'stupidity;', 'and', \"i'm\", 'not', 'sure', 'about', 'the', 'universe.']\n"
     ]
    }
   ],
   "source": [
    "words_token = tokenize(quote)\n",
    "print(words_token)"
   ]
  },
  {
   "cell_type": "markdown",
   "id": "741365a8-55e0-4221-a96c-750f24ae3ecb",
   "metadata": {},
   "source": [
    "### 10.1.b"
   ]
  },
  {
   "cell_type": "markdown",
   "id": "be011b75-5cfa-449b-90d1-fefe16115db1",
   "metadata": {},
   "source": [
    "**Implement an `ngram` function that splits tokens into N-grams.**"
   ]
  },
  {
   "cell_type": "code",
   "execution_count": 5,
   "id": "15a22428-e335-4447-986e-67660f5bd243",
   "metadata": {},
   "outputs": [],
   "source": [
    "def ngram(tokens, n):\n",
    "    ngrams = []\n",
    "    \n",
    "    # Create ngram\n",
    "    ngrams_zip = zip(*[tokens[i:] for i in range(n)])\n",
    "    \n",
    "    ngrams = [' '.join(grams) for grams in ngrams_zip]\n",
    "    \n",
    "    return ngrams"
   ]
  },
  {
   "cell_type": "code",
   "execution_count": 6,
   "id": "39a39cdf-5c59-4fe7-9f14-e9b189a97185",
   "metadata": {},
   "outputs": [
    {
     "name": "stdout",
     "output_type": "stream",
     "text": [
      "['two things are', 'things are infinite:', 'are infinite: the', 'infinite: the universe', 'the universe and', 'universe and human', 'and human stupidity;', 'human stupidity; and', \"stupidity; and i'm\", \"and i'm not\", \"i'm not sure\", 'not sure about', 'sure about the', 'about the universe.']\n"
     ]
    }
   ],
   "source": [
    "words_ngrams = ngram(words_token, 3)\n",
    "print(words_ngrams)"
   ]
  },
  {
   "cell_type": "markdown",
   "id": "9738be7d-3fde-4f51-91eb-56785b0062ef",
   "metadata": {},
   "source": [
    "### 10.1.c"
   ]
  },
  {
   "cell_type": "markdown",
   "id": "dcfe4e60-c899-481a-bea1-1e4f0238c0d9",
   "metadata": {},
   "source": [
    "**Implement an one_hot_encode function to create a vector from a numerical vector from a list of tokens.**"
   ]
  },
  {
   "cell_type": "code",
   "execution_count": 7,
   "id": "c13579c0-6b83-4666-a703-71600e8b7358",
   "metadata": {},
   "outputs": [],
   "source": [
    "import numpy as np"
   ]
  },
  {
   "cell_type": "code",
   "execution_count": 8,
   "id": "09c685cd-f3ba-4ff3-950c-bb0cc64a9c53",
   "metadata": {},
   "outputs": [],
   "source": [
    "def one_hot_encode(tokens, num_words = 100):\n",
    "    token_index = {}\n",
    "    \n",
    "    for word in tokens:\n",
    "        if word not in token_index:\n",
    "            token_index[word] = len(token_index) + 1\n",
    "            \n",
    "    max_length = 10\n",
    "    \n",
    "    results = np.zeros(shape = (len(tokens), \n",
    "                       max_length,\n",
    "                       max(token_index.values()) + 1))\n",
    "    \n",
    "    for i, word in enumerate(tokens):\n",
    "        for j, word in list(enumerate(tokens))[:max_length]:\n",
    "            index = token_index.get(word)\n",
    "            results[i, j, index] = 1\n",
    "    \n",
    "    return results"
   ]
  },
  {
   "cell_type": "code",
   "execution_count": 9,
   "id": "396619f2-555f-44a9-bf71-55543402c9cf",
   "metadata": {},
   "outputs": [
    {
     "name": "stdout",
     "output_type": "stream",
     "text": [
      "[[[0. 1. 0. 0. 0. 0. 0. 0. 0. 0. 0. 0. 0. 0. 0.]\n",
      "  [0. 0. 1. 0. 0. 0. 0. 0. 0. 0. 0. 0. 0. 0. 0.]\n",
      "  [0. 0. 0. 1. 0. 0. 0. 0. 0. 0. 0. 0. 0. 0. 0.]\n",
      "  [0. 0. 0. 0. 1. 0. 0. 0. 0. 0. 0. 0. 0. 0. 0.]\n",
      "  [0. 0. 0. 0. 0. 1. 0. 0. 0. 0. 0. 0. 0. 0. 0.]\n",
      "  [0. 0. 0. 0. 0. 0. 1. 0. 0. 0. 0. 0. 0. 0. 0.]\n",
      "  [0. 0. 0. 0. 0. 0. 0. 1. 0. 0. 0. 0. 0. 0. 0.]\n",
      "  [0. 0. 0. 0. 0. 0. 0. 0. 1. 0. 0. 0. 0. 0. 0.]\n",
      "  [0. 0. 0. 0. 0. 0. 0. 0. 0. 1. 0. 0. 0. 0. 0.]\n",
      "  [0. 0. 0. 0. 0. 0. 0. 1. 0. 0. 0. 0. 0. 0. 0.]]\n",
      "\n",
      " [[0. 1. 0. 0. 0. 0. 0. 0. 0. 0. 0. 0. 0. 0. 0.]\n",
      "  [0. 0. 1. 0. 0. 0. 0. 0. 0. 0. 0. 0. 0. 0. 0.]\n",
      "  [0. 0. 0. 1. 0. 0. 0. 0. 0. 0. 0. 0. 0. 0. 0.]\n",
      "  [0. 0. 0. 0. 1. 0. 0. 0. 0. 0. 0. 0. 0. 0. 0.]\n",
      "  [0. 0. 0. 0. 0. 1. 0. 0. 0. 0. 0. 0. 0. 0. 0.]\n",
      "  [0. 0. 0. 0. 0. 0. 1. 0. 0. 0. 0. 0. 0. 0. 0.]\n",
      "  [0. 0. 0. 0. 0. 0. 0. 1. 0. 0. 0. 0. 0. 0. 0.]\n",
      "  [0. 0. 0. 0. 0. 0. 0. 0. 1. 0. 0. 0. 0. 0. 0.]\n",
      "  [0. 0. 0. 0. 0. 0. 0. 0. 0. 1. 0. 0. 0. 0. 0.]\n",
      "  [0. 0. 0. 0. 0. 0. 0. 1. 0. 0. 0. 0. 0. 0. 0.]]\n",
      "\n",
      " [[0. 1. 0. 0. 0. 0. 0. 0. 0. 0. 0. 0. 0. 0. 0.]\n",
      "  [0. 0. 1. 0. 0. 0. 0. 0. 0. 0. 0. 0. 0. 0. 0.]\n",
      "  [0. 0. 0. 1. 0. 0. 0. 0. 0. 0. 0. 0. 0. 0. 0.]\n",
      "  [0. 0. 0. 0. 1. 0. 0. 0. 0. 0. 0. 0. 0. 0. 0.]\n",
      "  [0. 0. 0. 0. 0. 1. 0. 0. 0. 0. 0. 0. 0. 0. 0.]\n",
      "  [0. 0. 0. 0. 0. 0. 1. 0. 0. 0. 0. 0. 0. 0. 0.]\n",
      "  [0. 0. 0. 0. 0. 0. 0. 1. 0. 0. 0. 0. 0. 0. 0.]\n",
      "  [0. 0. 0. 0. 0. 0. 0. 0. 1. 0. 0. 0. 0. 0. 0.]\n",
      "  [0. 0. 0. 0. 0. 0. 0. 0. 0. 1. 0. 0. 0. 0. 0.]\n",
      "  [0. 0. 0. 0. 0. 0. 0. 1. 0. 0. 0. 0. 0. 0. 0.]]\n",
      "\n",
      " [[0. 1. 0. 0. 0. 0. 0. 0. 0. 0. 0. 0. 0. 0. 0.]\n",
      "  [0. 0. 1. 0. 0. 0. 0. 0. 0. 0. 0. 0. 0. 0. 0.]\n",
      "  [0. 0. 0. 1. 0. 0. 0. 0. 0. 0. 0. 0. 0. 0. 0.]\n",
      "  [0. 0. 0. 0. 1. 0. 0. 0. 0. 0. 0. 0. 0. 0. 0.]\n",
      "  [0. 0. 0. 0. 0. 1. 0. 0. 0. 0. 0. 0. 0. 0. 0.]\n",
      "  [0. 0. 0. 0. 0. 0. 1. 0. 0. 0. 0. 0. 0. 0. 0.]\n",
      "  [0. 0. 0. 0. 0. 0. 0. 1. 0. 0. 0. 0. 0. 0. 0.]\n",
      "  [0. 0. 0. 0. 0. 0. 0. 0. 1. 0. 0. 0. 0. 0. 0.]\n",
      "  [0. 0. 0. 0. 0. 0. 0. 0. 0. 1. 0. 0. 0. 0. 0.]\n",
      "  [0. 0. 0. 0. 0. 0. 0. 1. 0. 0. 0. 0. 0. 0. 0.]]]\n"
     ]
    }
   ],
   "source": [
    "words_one_hot = one_hot_encode(words_token)\n",
    "print(words_one_hot[1:5])"
   ]
  },
  {
   "cell_type": "markdown",
   "id": "3145bb9e-7c21-41af-aa0b-5a18cf27cadd",
   "metadata": {},
   "source": [
    "### Assignment 10.2"
   ]
  },
  {
   "cell_type": "markdown",
   "id": "556119e7-3138-452c-bfcd-be74d43ac5ba",
   "metadata": {},
   "source": [
    "**Train a sequential model with embeddings on the IMDB data found in data/external/imdb/. Produce the model performance metrics and training and validation accuracy curves within the Jupyter notebook.**"
   ]
  },
  {
   "cell_type": "code",
   "execution_count": 10,
   "id": "7e673ed2-16a1-482d-90bf-1d32c8f553a8",
   "metadata": {},
   "outputs": [],
   "source": [
    "import os\n",
    "import matplotlib.pyplot as plt\n",
    "\n",
    "from pathlib import Path\n",
    "from keras.preprocessing.text import Tokenizer\n",
    "from tensorflow.keras.utils import pad_sequences\n",
    "from keras.models import Sequential\n",
    "from keras.layers import Embedding, Flatten, Dense"
   ]
  },
  {
   "cell_type": "code",
   "execution_count": 11,
   "id": "ed3ba52f-72c5-4b30-b539-e0515dc40f62",
   "metadata": {},
   "outputs": [],
   "source": [
    "current_dir = Path(os.getcwd()).absolute()\n",
    "\n",
    "imdb_dir = '../../../data/external/imdb/aclImdb'\n",
    "train_dir = os.path.join(imdb_dir, 'train')\n",
    "test_dir = os.path.join(imdb_dir, 'test')"
   ]
  },
  {
   "cell_type": "code",
   "execution_count": 12,
   "id": "e48406e7-247d-4a99-9dce-0166aa934f4a",
   "metadata": {},
   "outputs": [],
   "source": [
    "# process the labels on the raw IMDB data\n",
    "labels = []\n",
    "texts = []\n",
    "\n",
    "for label_type in ['neg', 'pos']:\n",
    "    dir_name = os.path.join(train_dir, label_type)\n",
    "\n",
    "    for fname in os.listdir(dir_name):\n",
    "        if fname[-4:] == '.txt':\n",
    "            f = open(os.path.join(dir_name, fname), encoding='utf-8')\n",
    "            texts.append(f.read())\n",
    "            f.close()\n",
    "\n",
    "            if label_type == 'neg':\n",
    "                labels.append(0)\n",
    "            else:\n",
    "                labels.append(1)           "
   ]
  },
  {
   "cell_type": "code",
   "execution_count": 13,
   "id": "4f45266d-444a-4a7b-8bc1-fa7fd58e68a2",
   "metadata": {},
   "outputs": [],
   "source": [
    "# cutoff reviews after 100 words\n",
    "maxlen = 100\n",
    "\n",
    "# train on 200 samples\n",
    "training_samples = 100\n",
    "\n",
    "# validate on 10,000 samples\n",
    "validation_samples = 10000\n",
    "\n",
    "# Consider only top 10000 words in dataset\n",
    "max_words = 10000"
   ]
  },
  {
   "cell_type": "code",
   "execution_count": 14,
   "id": "85fe59ff-8db0-4340-95ba-0c6109c9b0ba",
   "metadata": {},
   "outputs": [],
   "source": [
    "tokenizer = Tokenizer(num_words = max_words)\n",
    "tokenizer.fit_on_texts(texts)\n",
    "sequences = tokenizer.texts_to_sequences(texts)"
   ]
  },
  {
   "cell_type": "code",
   "execution_count": 15,
   "id": "4be7cc26-ac68-4cd4-9b36-c3be2456b306",
   "metadata": {},
   "outputs": [
    {
     "name": "stdout",
     "output_type": "stream",
     "text": [
      "Found 88582 unique tokens.\n"
     ]
    }
   ],
   "source": [
    "word_index = tokenizer.word_index\n",
    "print(f'Found {len(word_index)} unique tokens.')"
   ]
  },
  {
   "cell_type": "code",
   "execution_count": 16,
   "id": "1ccf342c-8136-4edc-b86e-eb47fb5d7666",
   "metadata": {},
   "outputs": [],
   "source": [
    "data = pad_sequences(sequences, maxlen = maxlen)"
   ]
  },
  {
   "cell_type": "code",
   "execution_count": 17,
   "id": "8322e8ac-35f2-4879-9bb6-e0b7f2b7af8f",
   "metadata": {},
   "outputs": [
    {
     "name": "stdout",
     "output_type": "stream",
     "text": [
      "Shape of data tensor: (25000, 100)\n",
      "Shape of label tensor: (25000,)\n"
     ]
    }
   ],
   "source": [
    "labels = np.asarray(labels)\n",
    "print(f'Shape of data tensor: {data.shape}')\n",
    "print(f'Shape of label tensor: {labels.shape}')"
   ]
  },
  {
   "cell_type": "code",
   "execution_count": 18,
   "id": "ad75463f-cc5a-4195-ab02-38b8164373de",
   "metadata": {},
   "outputs": [],
   "source": [
    "indicies = np.arange(data.shape[0])\n",
    "np.random.shuffle(indicies)\n",
    "data = data[indicies]\n",
    "labels = labels[indicies]"
   ]
  },
  {
   "cell_type": "code",
   "execution_count": 19,
   "id": "d98609e3-e5f0-4df6-b67f-0f5b9f701f85",
   "metadata": {},
   "outputs": [],
   "source": [
    "x_train = data[:training_samples]\n",
    "y_train = labels[:training_samples]\n",
    "\n",
    "x_val = data[training_samples: training_samples + validation_samples]\n",
    "y_val = labels[training_samples: training_samples + validation_samples]"
   ]
  },
  {
   "cell_type": "code",
   "execution_count": 20,
   "id": "0c1004b1-16bc-43e7-97d1-dd145b74edfd",
   "metadata": {},
   "outputs": [
    {
     "name": "stdout",
     "output_type": "stream",
     "text": [
      "Model: \"sequential\"\n",
      "_________________________________________________________________\n",
      " Layer (type)                Output Shape              Param #   \n",
      "=================================================================\n",
      " embedding (Embedding)       (None, 100, 100)          1000000   \n",
      "                                                                 \n",
      " flatten (Flatten)           (None, 10000)             0         \n",
      "                                                                 \n",
      " dense (Dense)               (None, 32)                320032    \n",
      "                                                                 \n",
      " dense_1 (Dense)             (None, 1)                 33        \n",
      "                                                                 \n",
      "=================================================================\n",
      "Total params: 1,320,065\n",
      "Trainable params: 1,320,065\n",
      "Non-trainable params: 0\n",
      "_________________________________________________________________\n"
     ]
    }
   ],
   "source": [
    "# train model\n",
    "embedding_dim = 100\n",
    "\n",
    "model = Sequential()\n",
    "\n",
    "model.add(Embedding(max_words, embedding_dim, input_length = maxlen))\n",
    "model.add(Flatten())\n",
    "model.add(Dense(32, activation = 'relu'))\n",
    "model.add(Dense(1, activation = 'sigmoid'))\n",
    "\n",
    "model.summary()"
   ]
  },
  {
   "cell_type": "code",
   "execution_count": 21,
   "id": "f61f74a6-d263-4ccc-ae8f-9aa59f9e8b5a",
   "metadata": {},
   "outputs": [
    {
     "name": "stdout",
     "output_type": "stream",
     "text": [
      "Epoch 1/10\n",
      "4/4 [==============================] - 2s 408ms/step - loss: 0.6925 - acc: 0.4900 - val_loss: 0.6919 - val_acc: 0.5216\n",
      "Epoch 2/10\n",
      "4/4 [==============================] - 1s 241ms/step - loss: 0.4774 - acc: 1.0000 - val_loss: 0.6913 - val_acc: 0.5239\n",
      "Epoch 3/10\n",
      "4/4 [==============================] - 1s 248ms/step - loss: 0.3194 - acc: 1.0000 - val_loss: 0.6936 - val_acc: 0.5123\n",
      "Epoch 4/10\n",
      "4/4 [==============================] - 1s 254ms/step - loss: 0.1735 - acc: 1.0000 - val_loss: 0.7053 - val_acc: 0.5232\n",
      "Epoch 5/10\n",
      "4/4 [==============================] - 1s 261ms/step - loss: 0.1030 - acc: 1.0000 - val_loss: 0.6972 - val_acc: 0.5189\n",
      "Epoch 6/10\n",
      "4/4 [==============================] - 1s 256ms/step - loss: 0.0575 - acc: 1.0000 - val_loss: 0.6985 - val_acc: 0.5242\n",
      "Epoch 7/10\n",
      "4/4 [==============================] - 1s 277ms/step - loss: 0.0369 - acc: 1.0000 - val_loss: 0.7030 - val_acc: 0.5179\n",
      "Epoch 8/10\n",
      "4/4 [==============================] - 1s 256ms/step - loss: 0.0244 - acc: 1.0000 - val_loss: 0.7047 - val_acc: 0.5196\n",
      "Epoch 9/10\n",
      "4/4 [==============================] - 1s 226ms/step - loss: 0.0168 - acc: 1.0000 - val_loss: 0.7130 - val_acc: 0.5137\n",
      "Epoch 10/10\n",
      "4/4 [==============================] - 1s 247ms/step - loss: 0.0120 - acc: 1.0000 - val_loss: 0.7202 - val_acc: 0.5159\n"
     ]
    }
   ],
   "source": [
    "model.compile(optimizer = 'rmsprop',\n",
    "              loss = 'binary_crossentropy',\n",
    "              metrics = ['acc'])\n",
    "\n",
    "history = model.fit(x_train, y_train,\n",
    "                    epochs = 10,\n",
    "                    batch_size = 32,\n",
    "                    validation_data = (x_val, y_val))"
   ]
  },
  {
   "cell_type": "code",
   "execution_count": 22,
   "id": "119d3e7f-4bfb-48f3-95a3-48e33f29c7d5",
   "metadata": {},
   "outputs": [],
   "source": [
    "# tokenize the dataset of the test data\n",
    "labels = []\n",
    "texts = []\n",
    "\n",
    "for label_type in ['neg', 'pos']:\n",
    "    dir_name = os.path.join(test_dir, label_type)\n",
    "\n",
    "    for fname in os.listdir(dir_name):\n",
    "        if fname[-4:] == '.txt':\n",
    "            f = open(os.path.join(dir_name, fname), encoding='utf-8')\n",
    "            texts.append(f.read())\n",
    "            f.close()\n",
    "\n",
    "            if label_type == 'neg':\n",
    "                labels.append(0)\n",
    "            else:\n",
    "                labels.append(1)   \n",
    "                \n",
    "sequences = tokenizer.texts_to_sequences(texts)\n",
    "x_test = pad_sequences(sequences, maxlen = maxlen)\n",
    "y_test = np.asarray(labels)"
   ]
  },
  {
   "cell_type": "code",
   "execution_count": 23,
   "id": "a5328a00-dd99-4c35-bca9-81fc23cda89d",
   "metadata": {},
   "outputs": [
    {
     "data": {
      "image/png": "[encoded data removed]",
      "text/plain": [
       "<Figure size 432x288 with 1 Axes>"
      ]
     },
     "metadata": {
      "needs_background": "light"
     },
     "output_type": "display_data"
    }
   ],
   "source": [
    "# plot training vs validation accuracy\n",
    "plt.plot(history.history['acc'])\n",
    "plt.plot(history.history['val_acc'])\n",
    "\n",
    "plt.title('Training and Validation Accuracy')\n",
    "plt.ylabel('Accuracy')\n",
    "plt.xlabel('Number of Epochs')\n",
    "plt.legend(['training', 'validation'], loc='lower right')\n",
    "\n",
    "plt.show()"
   ]
  },
  {
   "cell_type": "code",
   "execution_count": 24,
   "id": "acdd07cd-081b-4b9e-95c4-e31e5a435c0b",
   "metadata": {},
   "outputs": [
    {
     "data": {
      "image/png": "[encoded data removed]",
      "text/plain": [
       "<Figure size 432x288 with 1 Axes>"
      ]
     },
     "metadata": {
      "needs_background": "light"
     },
     "output_type": "display_data"
    }
   ],
   "source": [
    "# Plot training vs validation losses\n",
    "plt.plot(history.history['loss'])\n",
    "plt.plot(history.history['val_loss'])\n",
    "\n",
    "plt.title('Training and Validation Loss')\n",
    "plt.ylabel('Loss')\n",
    "plt.xlabel('Number of Epochs')\n",
    "plt.legend(['training', 'validation'], loc='upper right')\n",
    "\n",
    "plt.show()"
   ]
  },
  {
   "cell_type": "code",
   "execution_count": 25,
   "id": "83c163ce-32e6-4f98-a6b3-e226feaa965f",
   "metadata": {},
   "outputs": [
    {
     "name": "stdout",
     "output_type": "stream",
     "text": [
      "782/782 [==============================] - 3s 3ms/step - loss: 0.7221 - acc: 0.5100\n",
      "Model Accuracy: 51.0%\n",
      "Model Loss: 0.722\n"
     ]
    }
   ],
   "source": [
    "# Evaluate the model\n",
    "eval = model.evaluate(x_test, y_test)\n",
    "print(f'Model Accuracy: {eval[1] * 100:.1f}%')\n",
    "print(f'Model Loss: {eval[0]:.3f}')"
   ]
  },
  {
   "cell_type": "markdown",
   "id": "1f7e2797-8143-4de2-a9c3-1e592b439298",
   "metadata": {},
   "source": [
    "### Assignment 10.3"
   ]
  },
  {
   "cell_type": "markdown",
   "id": "3624999b-45be-4cdc-aef9-28c4efc47592",
   "metadata": {},
   "source": [
    "**Fit the same data with an LSTM layer**"
   ]
  },
  {
   "cell_type": "code",
   "execution_count": 26,
   "id": "492cd3c2-3626-4298-849d-f3618898566f",
   "metadata": {},
   "outputs": [],
   "source": [
    "from keras.layers import LSTM"
   ]
  },
  {
   "cell_type": "code",
   "execution_count": 27,
   "id": "60aae493-c6c4-4db2-8f77-0254f860b40c",
   "metadata": {},
   "outputs": [],
   "source": [
    "# number of words to consider as features\n",
    "max_features = 10000"
   ]
  },
  {
   "cell_type": "code",
   "execution_count": 28,
   "id": "b53e4825-e9ef-4353-91d3-eba5745769e7",
   "metadata": {},
   "outputs": [
    {
     "name": "stdout",
     "output_type": "stream",
     "text": [
      "Model: \"sequential_1\"\n",
      "_________________________________________________________________\n",
      " Layer (type)                Output Shape              Param #   \n",
      "=================================================================\n",
      " embedding_1 (Embedding)     (None, None, 32)          320000    \n",
      "                                                                 \n",
      " lstm (LSTM)                 (None, 32)                8320      \n",
      "                                                                 \n",
      " dense_2 (Dense)             (None, 1)                 33        \n",
      "                                                                 \n",
      "=================================================================\n",
      "Total params: 328,353\n",
      "Trainable params: 328,353\n",
      "Non-trainable params: 0\n",
      "_________________________________________________________________\n"
     ]
    }
   ],
   "source": [
    "# useing the LSTM layer\n",
    "model = Sequential()\n",
    "\n",
    "model.add(Embedding(max_features, 32))\n",
    "model.add(LSTM(32))\n",
    "model.add(Dense(1, activation = 'sigmoid'))\n",
    "\n",
    "model.summary()"
   ]
  },
  {
   "cell_type": "code",
   "execution_count": 29,
   "id": "60a4443b-5065-4f30-a4d5-4ab56679874a",
   "metadata": {},
   "outputs": [
    {
     "name": "stdout",
     "output_type": "stream",
     "text": [
      "Epoch 1/10\n",
      "1/1 [==============================] - 5s 5s/step - loss: 0.6920 - acc: 0.6000 - val_loss: 0.6941 - val_acc: 0.4500\n",
      "Epoch 2/10\n",
      "1/1 [==============================] - 0s 90ms/step - loss: 0.6836 - acc: 0.6125 - val_loss: 0.6959 - val_acc: 0.4500\n",
      "Epoch 3/10\n",
      "1/1 [==============================] - 0s 89ms/step - loss: 0.6754 - acc: 0.5875 - val_loss: 0.6983 - val_acc: 0.4500\n",
      "Epoch 4/10\n",
      "1/1 [==============================] - 0s 82ms/step - loss: 0.6654 - acc: 0.5875 - val_loss: 0.7019 - val_acc: 0.4500\n",
      "Epoch 5/10\n",
      "1/1 [==============================] - 0s 86ms/step - loss: 0.6525 - acc: 0.5875 - val_loss: 0.7081 - val_acc: 0.4500\n",
      "Epoch 6/10\n",
      "1/1 [==============================] - 0s 83ms/step - loss: 0.6350 - acc: 0.5875 - val_loss: 0.7219 - val_acc: 0.4500\n",
      "Epoch 7/10\n",
      "1/1 [==============================] - 0s 87ms/step - loss: 0.6082 - acc: 0.5875 - val_loss: 0.7827 - val_acc: 0.4500\n",
      "Epoch 8/10\n",
      "1/1 [==============================] - 0s 78ms/step - loss: 0.5634 - acc: 0.5875 - val_loss: 0.7996 - val_acc: 0.4500\n",
      "Epoch 9/10\n",
      "1/1 [==============================] - 0s 92ms/step - loss: 0.4910 - acc: 0.5875 - val_loss: 1.3732 - val_acc: 0.4500\n",
      "Epoch 10/10\n",
      "1/1 [==============================] - 0s 100ms/step - loss: 0.6515 - acc: 0.6125 - val_loss: 0.6947 - val_acc: 0.4500\n"
     ]
    }
   ],
   "source": [
    "model.compile(optimizer = 'rmsprop',\n",
    "              loss = 'binary_crossentropy',\n",
    "              metrics = ['acc'])\n",
    "\n",
    "history = model.fit(x_train, y_train,\n",
    "                    epochs = 10,\n",
    "                    batch_size = 128,\n",
    "                    validation_split = 0.2)"
   ]
  },
  {
   "cell_type": "code",
   "execution_count": 30,
   "id": "fac02a76-cb2d-4761-a539-89d12fee3dab",
   "metadata": {},
   "outputs": [
    {
     "data": {
      "image/png": "[encoded data removed]",
      "text/plain": [
       "<Figure size 432x288 with 1 Axes>"
      ]
     },
     "metadata": {
      "needs_background": "light"
     },
     "output_type": "display_data"
    }
   ],
   "source": [
    "# plot training vs validation accuracy\n",
    "plt.plot(history.history['acc'])\n",
    "plt.plot(history.history['val_acc'])\n",
    "\n",
    "plt.title('Training and Validation Accuracy')\n",
    "plt.ylabel('Accuracy')\n",
    "plt.xlabel('Number of Epochs')\n",
    "plt.legend(['training', 'validation'], loc='lower right')\n",
    "\n",
    "plt.show()"
   ]
  },
  {
   "cell_type": "code",
   "execution_count": 31,
   "id": "6a9ff31d-28c5-4b6f-ae37-0ea100fe514d",
   "metadata": {},
   "outputs": [
    {
     "data": {
      "image/png": "[encoded data removed]",
      "text/plain": [
       "<Figure size 432x288 with 1 Axes>"
      ]
     },
     "metadata": {
      "needs_background": "light"
     },
     "output_type": "display_data"
    }
   ],
   "source": [
    "# Plot training vs validation losses\n",
    "plt.plot(history.history['loss'])\n",
    "plt.plot(history.history['val_loss'])\n",
    "\n",
    "plt.title('Training and Validation Loss')\n",
    "plt.ylabel('Loss')\n",
    "plt.xlabel('Number of Epochs')\n",
    "plt.legend(['training', 'validation'], loc='upper right')\n",
    "\n",
    "plt.show()"
   ]
  },
  {
   "cell_type": "code",
   "execution_count": 32,
   "id": "3a49a771-befd-4d39-bb1c-f8a8792b8169",
   "metadata": {},
   "outputs": [
    {
     "name": "stdout",
     "output_type": "stream",
     "text": [
      "782/782 [==============================] - 10s 12ms/step - loss: 0.6889 - acc: 0.5156\n",
      "Model Accuracy: 51.6%\n",
      "Model Loss: 0.689\n"
     ]
    }
   ],
   "source": [
    "# Evaluate the model\n",
    "eval = model.evaluate(x_test, y_test)\n",
    "print(f'Model Accuracy: {eval[1] * 100:.1f}%')\n",
    "print(f'Model Loss: {eval[0]:.3f}')"
   ]
  },
  {
   "cell_type": "markdown",
   "id": "e242f00d-0e1b-4a91-879f-8e24f14f8af2",
   "metadata": {},
   "source": [
    "## Assignment 10.4"
   ]
  },
  {
   "cell_type": "markdown",
   "id": "9be3fb8a-a1dc-4582-abc5-285ac12f1187",
   "metadata": {},
   "source": [
    "**Fit the same data with a simple 1D convnet.**"
   ]
  },
  {
   "cell_type": "code",
   "execution_count": 33,
   "id": "62014e5d-4882-448a-9491-7ca7bf5ede61",
   "metadata": {},
   "outputs": [],
   "source": [
    "from keras.layers import Conv1D, MaxPooling1D, GlobalMaxPooling1D\n",
    "from tensorflow.keras.optimizers import RMSprop"
   ]
  },
  {
   "cell_type": "code",
   "execution_count": 34,
   "id": "5c58694a-1e88-478f-98e6-5cffbda6e249",
   "metadata": {},
   "outputs": [
    {
     "name": "stdout",
     "output_type": "stream",
     "text": [
      "Model: \"sequential_2\"\n",
      "_________________________________________________________________\n",
      " Layer (type)                Output Shape              Param #   \n",
      "=================================================================\n",
      " embedding_2 (Embedding)     (None, 100, 128)          1280000   \n",
      "                                                                 \n",
      " conv1d (Conv1D)             (None, 94, 32)            28704     \n",
      "                                                                 \n",
      " max_pooling1d (MaxPooling1D  (None, 18, 32)           0         \n",
      " )                                                               \n",
      "                                                                 \n",
      " conv1d_1 (Conv1D)           (None, 12, 32)            7200      \n",
      "                                                                 \n",
      " global_max_pooling1d (Globa  (None, 32)               0         \n",
      " lMaxPooling1D)                                                  \n",
      "                                                                 \n",
      " dense_3 (Dense)             (None, 1)                 33        \n",
      "                                                                 \n",
      "=================================================================\n",
      "Total params: 1,315,937\n",
      "Trainable params: 1,315,937\n",
      "Non-trainable params: 0\n",
      "_________________________________________________________________\n"
     ]
    }
   ],
   "source": [
    "max_len = 100\n",
    "\n",
    "model = Sequential()\n",
    "\n",
    "model.add(Embedding(max_features, 128, input_length = max_len))\n",
    "model.add(Conv1D(32, 7, activation = 'relu'))\n",
    "model.add(MaxPooling1D(5))\n",
    "model.add(Conv1D(32, 7, activation = 'relu'))\n",
    "model.add(GlobalMaxPooling1D())\n",
    "model.add(Dense(1))\n",
    "\n",
    "model.summary()"
   ]
  },
  {
   "cell_type": "code",
   "execution_count": 35,
   "id": "9ae4c8f3-6d3c-41cb-b1e8-52688107311a",
   "metadata": {},
   "outputs": [
    {
     "name": "stdout",
     "output_type": "stream",
     "text": [
      "Epoch 1/10\n",
      "1/1 [==============================] - 1s 1s/step - loss: 6.3628 - acc: 0.5875 - val_loss: 8.4837 - val_acc: 0.4500\n",
      "Epoch 2/10\n",
      "1/1 [==============================] - 0s 117ms/step - loss: 6.3628 - acc: 0.5875 - val_loss: 8.4837 - val_acc: 0.4500\n",
      "Epoch 3/10\n",
      "1/1 [==============================] - 0s 78ms/step - loss: 6.3628 - acc: 0.5875 - val_loss: 8.4837 - val_acc: 0.4500\n",
      "Epoch 4/10\n",
      "1/1 [==============================] - 0s 84ms/step - loss: 6.3628 - acc: 0.5875 - val_loss: 8.4837 - val_acc: 0.4500\n",
      "Epoch 5/10\n",
      "1/1 [==============================] - 0s 68ms/step - loss: 6.3628 - acc: 0.5875 - val_loss: 8.4837 - val_acc: 0.4500\n",
      "Epoch 6/10\n",
      "1/1 [==============================] - 0s 69ms/step - loss: 6.3628 - acc: 0.5875 - val_loss: 8.4837 - val_acc: 0.4500\n",
      "Epoch 7/10\n",
      "1/1 [==============================] - 0s 80ms/step - loss: 6.3628 - acc: 0.5875 - val_loss: 8.4837 - val_acc: 0.4500\n",
      "Epoch 8/10\n",
      "1/1 [==============================] - 0s 83ms/step - loss: 6.3628 - acc: 0.5875 - val_loss: 8.4837 - val_acc: 0.4500\n",
      "Epoch 9/10\n",
      "1/1 [==============================] - 0s 86ms/step - loss: 6.3628 - acc: 0.5875 - val_loss: 8.4837 - val_acc: 0.4500\n",
      "Epoch 10/10\n",
      "1/1 [==============================] - 0s 84ms/step - loss: 6.3628 - acc: 0.5875 - val_loss: 8.4837 - val_acc: 0.4500\n"
     ]
    }
   ],
   "source": [
    "model.compile(optimizer = RMSprop(learning_rate = 1e-4),\n",
    "              loss = 'binary_crossentropy',\n",
    "              metrics = ['acc'])\n",
    "\n",
    "history = model.fit(x_train, y_train,\n",
    "                    epochs = 10,\n",
    "                    batch_size = 128,\n",
    "                    validation_split = 0.2)"
   ]
  },
  {
   "cell_type": "code",
   "execution_count": 36,
   "id": "998f27d3-ef6c-4b56-9679-cdecdb52ce7c",
   "metadata": {},
   "outputs": [
    {
     "data": {
      "image/png": "[encoded data removed]",
      "text/plain": [
       "<Figure size 432x288 with 1 Axes>"
      ]
     },
     "metadata": {
      "needs_background": "light"
     },
     "output_type": "display_data"
    }
   ],
   "source": [
    "# plot training vs validation accuracy\n",
    "plt.plot(history.history['acc'])\n",
    "plt.plot(history.history['val_acc'])\n",
    "\n",
    "plt.title('Training and Validation Accuracy')\n",
    "plt.ylabel('Accuracy')\n",
    "plt.xlabel('Number of Epochs')\n",
    "plt.legend(['training', 'validation'], loc='lower right')\n",
    "\n",
    "plt.show()"
   ]
  },
  {
   "cell_type": "code",
   "execution_count": 37,
   "id": "f9a6afec-5d9f-4951-baf3-69785f688721",
   "metadata": {},
   "outputs": [
    {
     "data": {
      "image/png": "[encoded data removed]",
      "text/plain": [
       "<Figure size 432x288 with 1 Axes>"
      ]
     },
     "metadata": {
      "needs_background": "light"
     },
     "output_type": "display_data"
    }
   ],
   "source": [
    "# Plot training vs validation losses\n",
    "plt.plot(history.history['loss'])\n",
    "plt.plot(history.history['val_loss'])\n",
    "\n",
    "plt.title('Training and Validation Loss')\n",
    "plt.ylabel('Loss')\n",
    "plt.xlabel('Number of Epochs')\n",
    "plt.legend(['training', 'validation'], loc='upper right')\n",
    "\n",
    "plt.show()"
   ]
  },
  {
   "cell_type": "code",
   "execution_count": 38,
   "id": "e4fd21ea-3b44-4d92-8c16-37da05a7d30e",
   "metadata": {},
   "outputs": [
    {
     "name": "stdout",
     "output_type": "stream",
     "text": [
      "782/782 [==============================] - 3s 4ms/step - loss: 7.6844 - acc: 0.5000\n",
      "Model Accuracy: 50.0%\n",
      "Model Loss: 7.684\n"
     ]
    }
   ],
   "source": [
    "# Evaluate the model\n",
    "eval = model.evaluate(x_test, y_test)\n",
    "print(f'Model Accuracy: {eval[1] * 100:.1f}%')\n",
    "print(f'Model Loss: {eval[0]:.3f}')"
   ]
  },
  {
   "cell_type": "code",
   "execution_count": null,
   "id": "eb983afe-ade8-475f-aef8-88fb69eb2bea",
   "metadata": {},
   "outputs": [],
   "source": []
  }
 ],
 "metadata": {
  "kernelspec": {
   "display_name": "Python 3 (ipykernel)",
   "language": "python",
   "name": "python3"
  },
  "language_info": {
   "codemirror_mode": {
    "name": "ipython",
    "version": 3
   },
   "file_extension": ".py",
   "mimetype": "text/x-python",
   "name": "python",
   "nbconvert_exporter": "python",
   "pygments_lexer": "ipython3",
   "version": "3.9.7"
  }
 },
 "nbformat": 4,
 "nbformat_minor": 5
}
