{
  "nbformat": 4,
  "nbformat_minor": 0,
  "metadata": {
    "colab": {
      "provenance": []
    },
    "kernelspec": {
      "name": "python3",
      "display_name": "Python 3"
    },
    "language_info": {
      "name": "python"
    }
  },
  "cells": [
    {
      "cell_type": "code",
      "execution_count": 21,
      "metadata": {
        "id": "cVSk5-X6m5vu",
        "colab": {
          "base_uri": "https://localhost:8080/"
        },
        "outputId": "0cae10f9-a203-45c1-bcaf-3dafd828430f"
      },
      "outputs": [
        {
          "output_type": "stream",
          "name": "stdout",
          "text": [
            "Mounted at /content/drive\n",
            "/content/drive/My Drive/assignment02\n"
          ]
        }
      ],
      "source": [
        "import os\n",
        "from google.colab import drive\n",
        "drive.mount('/content/drive', force_remount = True)\n",
        "os.chdir('/content/drive/My Drive/assignment02')\n",
        "!pwd"
      ]
    },
    {
      "cell_type": "code",
      "source": [
        "import json\n",
        "from pathlib import Path\n",
        "import os\n",
        "import pickle\n",
        "import pandas as pd"
      ],
      "metadata": {
        "id": "xHpp-IVktLG_"
      },
      "execution_count": 31,
      "outputs": []
    },
    {
      "cell_type": "code",
      "source": [
        "import json\n",
        "from pathlib import Path\n",
        "import os\n",
        "\n",
        "import pandas as pd\n",
        "\n",
        "def read_cluster_csv(file_path):\n",
        "  return pd.read_csv(file_path)\n",
        "\n",
        "current_dir = Path(os.getcwd()).absolute()\n",
        "results_dir = current_dir.joinpath('results')\n",
        "kv_data_dir = results_dir.joinpath('kvdb')\n",
        "kv_data_dir.mkdir(parents=True, exist_ok=True)\n",
        "\n",
        "people_json = kv_data_dir.joinpath('people.json')\n",
        "visited_json = kv_data_dir.joinpath('visited.json')\n",
        "sites_json = kv_data_dir.joinpath('sites.json')\n",
        "measurements_json = kv_data_dir.joinpath('measurements.json')"
      ],
      "metadata": {
        "id": "6SHJHCzuq634"
      },
      "execution_count": 30,
      "outputs": []
    },
    {
      "cell_type": "code",
      "source": [
        "class KVDB(object):\n",
        "    def __init__(self, db_path):\n",
        "        self._db_path = Path(db_path)\n",
        "        self._db = {}\n",
        "        self._load_db()\n",
        "        \n",
        "    def _load_db(self):\n",
        "        if self._db_path.exists():\n",
        "            with open(self._db_path) as f:\n",
        "                self._db = json.load(f)\n",
        "\n",
        "    def get_value(self, key):\n",
        "        return self._db.get(key)\n",
        "\n",
        "    def set_value(self, key, value):\n",
        "        self._db[key] = value\n",
        "        \n",
        "    def save(self):\n",
        "        with open(self._db_path, 'w') as f:\n",
        "            json.dump(self._db, f, indent=2)\n",
        "\n",
        "def create_sites_kvdb():\n",
        "    db = KVDB(sites_json)\n",
        "    \n",
        "    df = pd.read_csv('site.csv')\n",
        "    for site_id, group_df in df.groupby('site_id'):\n",
        "        db.set_value(site_id, group_df.to_dict(orient='records')[0])\n",
        "        db.save()\n",
        "\n",
        "def create_people_kvdb():\n",
        "    db=KVDB(people_json)\n",
        "    df = pd.read_csv('person.csv')\n",
        "    for person_id, group_df in df.groupby('person_id'):\n",
        "        db.set_value(person_id, group_df.to_dict(orient='records')[0])\n",
        "        db.save()\n",
        "\n",
        "def create_visit_kvdb():\n",
        "    db = KVDB(visited_json)\n",
        "    df = pd.read_csv('visited.csv')\n",
        "    for composite_id, group_df in df.groupby([\"visit_id\", \"site_id\"]):\n",
        "        key=str(composite_id)\n",
        "        db.set_value(key, group_df.to_dict(orient='records')[0])\n",
        "        db.save()\n",
        "\n",
        "def create_measurements_kvdb():\n",
        "    db = KVDB(measurements_json)\n",
        "    df = pd.read_csv('measurements.csv')\n",
        "    for composite_id, group_df in df.groupby(['visit_id', 'person_id', 'quantity']):\n",
        "        key=str(composite_id)\n",
        "        db.set_value(key, group_df.to_dict(orient='records')[0])\n",
        "        db.save()\n",
        "\n"
      ],
      "metadata": {
        "id": "iC2fT2ZJr3aD"
      },
      "execution_count": 32,
      "outputs": []
    },
    {
      "cell_type": "code",
      "source": [
        "create_sites_kvdb()\n",
        "create_people_kvdb()\n",
        "create_visit_kvdb()\n",
        "create_measurements_kvdb()"
      ],
      "metadata": {
        "id": "ITjwueQQsMu7"
      },
      "execution_count": 33,
      "outputs": []
    },
    {
      "cell_type": "code",
      "source": [],
      "metadata": {
        "id": "RaOzVy14sQVZ"
      },
      "execution_count": null,
      "outputs": []
    }
  ]
}