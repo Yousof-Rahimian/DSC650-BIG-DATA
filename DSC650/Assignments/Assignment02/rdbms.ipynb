{
  "nbformat": 4,
  "nbformat_minor": 0,
  "metadata": {
    "colab": {
      "provenance": []
    },
    "kernelspec": {
      "name": "python3",
      "display_name": "Python 3"
    },
    "language_info": {
      "name": "python"
    }
  },
  "cells": [
    {
      "cell_type": "code",
      "execution_count": 21,
      "metadata": {
        "id": "cVSk5-X6m5vu",
        "colab": {
          "base_uri": "https://localhost:8080/"
        },
        "outputId": "0cae10f9-a203-45c1-bcaf-3dafd828430f"
      },
      "outputs": [
        {
          "output_type": "stream",
          "name": "stdout",
          "text": [
            "Mounted at /content/drive\n",
            "/content/drive/My Drive/assignment02\n"
          ]
        }
      ],
      "source": [
        "import os\n",
        "from google.colab import drive\n",
        "drive.mount('/content/drive', force_remount = True)\n",
        "os.chdir('/content/drive/My Drive/assignment02')\n",
        "!pwd"
      ]
    },
    {
      "cell_type": "code",
      "source": [
        "from pathlib import Path\n",
        "import os\n",
        "import sqlite3\n",
        "\n",
        "import pandas as pd\n",
        "\n",
        "current_dir = Path(os.getcwd()).absolute()\n",
        "results_dir = current_dir.joinpath('results')\n",
        "kv_data_dir = results_dir.joinpath('kvdb')\n",
        "kv_data_dir.mkdir(parents=True, exist_ok=True)\n",
        "\n",
        "\n",
        "def read_cluster_csv(file_path):\n",
        "    return pd.read_csv(file_path)"
      ],
      "metadata": {
        "id": "YxqrwgH32zVc"
      },
      "execution_count": 37,
      "outputs": []
    },
    {
      "cell_type": "markdown",
      "source": [
        "### **Create and Load Measurements Table**"
      ],
      "metadata": {
        "id": "EoWxI70M2_UT"
      }
    },
    {
      "cell_type": "code",
      "source": [
        "def create_measurements_table(conn):\n",
        "    sql = \"\"\"\n",
        "    CREATE TABLE IF NOT EXISTS measurements (\n",
        "        visit_id integer NOT NULL,\n",
        "        person_id text NOT NULL,\n",
        "        quantity text,\n",
        "        reading real,\n",
        "        FOREIGN KEY (visit_id) REFERENCES visits (visit_id),\n",
        "        FOREIGN KEY (person_id) REFERENCES people (people_id)\n",
        "        );\n",
        "    \"\"\"\n",
        "\n",
        "    c = conn.cursor()\n",
        "    c.execute(sql)\n",
        "    \n",
        "def load_measurements_table(conn):\n",
        "    create_measurements_table(conn)\n",
        "    df = read_cluster_csv('data/measurements.csv')\n",
        "    measurements = df.values\n",
        "    c = conn.cursor()\n",
        "    c.execute('DELETE FROM measurements;') # Delete data if exists\n",
        "    c.executemany('INSERT INTO measurements VALUES (?,?,?,?)', measurements)"
      ],
      "metadata": {
        "id": "IbjPVBKC3K-4"
      },
      "execution_count": 39,
      "outputs": []
    },
    {
      "cell_type": "markdown",
      "source": [
        "# Create and Load People Table"
      ],
      "metadata": {
        "id": "YZsIrXcu3Sjd"
      }
    },
    {
      "cell_type": "code",
      "source": [
        "def create_people_table(conn):\n",
        "    sql = \"\"\"\n",
        "    CREATE TABLE IF NOT EXISTS people (\n",
        "        person_id text PRIMARY KEY,\n",
        "        personal_name text NOT NULL,\n",
        "        family_name text NOT NULL\n",
        "        );\n",
        "    \"\"\"\n",
        "    \n",
        "    c = conn.cursor()\n",
        "    c.execute(sql)\n",
        "    \n",
        "def load_people_table(conn):\n",
        "    create_people_table(conn)\n",
        "    df = read_cluster_csv('data/person.csv')\n",
        "    people = df.values\n",
        "    c = conn.cursor()\n",
        "    c.execute('DELETE FROM people;') # Delete data if exists\n",
        "    c.executemany('INSERT INTO people VALUES (?,?,?)', people)"
      ],
      "metadata": {
        "id": "E0wKIhJV3MOM"
      },
      "execution_count": 40,
      "outputs": []
    },
    {
      "cell_type": "code",
      "source": [],
      "metadata": {
        "id": "VmJmnzeY3gfp"
      },
      "execution_count": null,
      "outputs": []
    },
    {
      "cell_type": "markdown",
      "source": [
        "# Create and Load Sites Table"
      ],
      "metadata": {
        "id": "pSkyb2_G3lDf"
      }
    },
    {
      "cell_type": "code",
      "source": [
        "def create_sites_table(conn):\n",
        "    sql = \"\"\"\n",
        "    CREATE TABLE IF NOT EXISTS sites (\n",
        "        site_id text PRIMARY KEY,\n",
        "        latitude double NOT NULL,\n",
        "        longitude double NOT NULL\n",
        "        );\n",
        "    \"\"\"\n",
        "\n",
        "    c = conn.cursor()\n",
        "    c.execute(sql)\n",
        "\n",
        "def load_sites_table(conn):\n",
        "    create_sites_table(conn)\n",
        "    df = read_cluster_csv('data/site.csv')\n",
        "    sites = df.values\n",
        "    c = conn.cursor()\n",
        "    c.execute('DELETE FROM sites;') # Delete data if exists\n",
        "    c.executemany('INSERT INTO sites VALUES (?,?,?)', sites)"
      ],
      "metadata": {
        "id": "js_Ml6Hx3nOx"
      },
      "execution_count": 41,
      "outputs": []
    },
    {
      "cell_type": "code",
      "source": [],
      "metadata": {
        "id": "3tHGF3vK3rnL"
      },
      "execution_count": null,
      "outputs": []
    },
    {
      "cell_type": "markdown",
      "source": [
        "# Create and Load Visits Table"
      ],
      "metadata": {
        "id": "4BD6WAFc3sMU"
      }
    },
    {
      "cell_type": "code",
      "source": [
        "def create_visits_table(conn):\n",
        "    sql = \"\"\"\n",
        "    CREATE TABLE IF NOT EXISTS visits (\n",
        "        visit_id integer PRIMARY KEY,\n",
        "        site_id text NOT NULL,\n",
        "        visit_date text,\n",
        "        FOREIGN KEY (site_id) REFERENCES sites (site_id)\n",
        "        );\n",
        "    \"\"\"\n",
        "    \n",
        "    c = conn.cursor()\n",
        "    c.execute(sql)\n",
        "\n",
        "def load_visits_table(conn):\n",
        "    create_visits_table(conn)\n",
        "    df = read_cluster_csv('data/visited.csv')\n",
        "    visits = df.values\n",
        "    c = conn.cursor()\n",
        "    c.execute('DELETE FROM visits;') # Delete data if exists\n",
        "    c.executemany('INSERT INTO visits VALUES (?,?,?)', visits)"
      ],
      "metadata": {
        "id": "H5gos_tp3xG_"
      },
      "execution_count": 42,
      "outputs": []
    },
    {
      "cell_type": "code",
      "source": [],
      "metadata": {
        "id": "j1DcA8pJ31ML"
      },
      "execution_count": null,
      "outputs": []
    },
    {
      "cell_type": "markdown",
      "source": [
        "# Create DB and Load Tables"
      ],
      "metadata": {
        "id": "PQMLjoe_32C1"
      }
    },
    {
      "cell_type": "code",
      "source": [
        "db_path = results_dir.joinpath('patient-info.db')\n",
        "conn = sqlite3.connect(str(db_path))\n",
        "load_people_table(conn) \n",
        "load_sites_table(conn)\n",
        "load_visits_table(conn)\n",
        "load_measurements_table(conn)\n",
        "\n",
        "conn.commit()\n",
        "conn.close()"
      ],
      "metadata": {
        "id": "mwGVGvLL36l6"
      },
      "execution_count": 44,
      "outputs": []
    },
    {
      "cell_type": "code",
      "source": [],
      "metadata": {
        "id": "g_Jff1Kw4CKv"
      },
      "execution_count": null,
      "outputs": []
    }
  ]
}