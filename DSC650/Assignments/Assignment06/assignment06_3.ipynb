{
  "cells": [
    {
      "cell_type": "markdown",
      "metadata": {
        "id": "GB5awWuQoyVN"
      },
      "source": [
        "# 6.3 ResNet50 model: image classification"
      ]
    },
    {
      "cell_type": "code",
      "execution_count": 1,
      "metadata": {
        "colab": {
          "base_uri": "https://localhost:8080/"
        },
        "id": "1inyuq29NvAv",
        "outputId": "f6e89ead-797c-4f7e-a5e0-33f19e45a759"
      },
      "outputs": [
        {
          "output_type": "stream",
          "name": "stdout",
          "text": [
            "Drive already mounted at /content/drive; to attempt to forcibly remount, call drive.mount(\"/content/drive\", force_remount=True).\n"
          ]
        }
      ],
      "source": [
        "from google.colab import drive\n",
        "drive.mount('/content/drive')"
      ]
    },
    {
      "cell_type": "code",
      "execution_count": 4,
      "metadata": {
        "colab": {
          "base_uri": "https://localhost:8080/"
        },
        "id": "H8tasGOA792S",
        "outputId": "092dee4b-71a9-4097-e671-d9f3ef6b221b"
      },
      "outputs": [
        {
          "output_type": "stream",
          "name": "stdout",
          "text": [
            "Mounted at /content/drive\n",
            "/content/drive/My Drive/assignment06\n"
          ]
        }
      ],
      "source": [
        "import os\n",
        "from google.colab import drive\n",
        "drive.mount('/content/drive', force_remount = True)\n",
        "os.chdir('/content/drive/My Drive/assignment06')\n",
        "!pwd"
      ]
    },
    {
      "cell_type": "code",
      "source": [
        "import glob\n",
        "import numpy as np\n",
        "import matplotlib.pyplot as plt\n",
        "\n",
        "from tensorflow.keras.applications.resnet50 import ResNet50\n",
        "from tensorflow.keras.preprocessing import image\n",
        "from tensorflow.keras.applications.resnet50 import preprocess_input, decode_predictions\n",
        "from tensorflow.keras.applications import resnet50"
      ],
      "metadata": {
        "id": "lLEfWv8PqCCt"
      },
      "execution_count": 5,
      "outputs": []
    },
    {
      "cell_type": "markdown",
      "source": [
        "Load the Model"
      ],
      "metadata": {
        "id": "19sWnMW1qLuR"
      }
    },
    {
      "cell_type": "code",
      "source": [
        "model = ResNet50(weights = 'imagenet')"
      ],
      "metadata": {
        "colab": {
          "base_uri": "https://localhost:8080/"
        },
        "id": "7a3R9fOlqEVT",
        "outputId": "cc680c91-d11c-4aa9-b3ca-9ab7c4bbb010"
      },
      "execution_count": 6,
      "outputs": [
        {
          "output_type": "stream",
          "name": "stdout",
          "text": [
            "Downloading data from https://storage.googleapis.com/tensorflow/keras-applications/resnet/resnet50_weights_tf_dim_ordering_tf_kernels.h5\n",
            "102967424/102967424 [==============================] - 1s 0us/step\n"
          ]
        }
      ]
    },
    {
      "cell_type": "markdown",
      "source": [
        "Classify Images"
      ],
      "metadata": {
        "id": "7mXROh_yqSnI"
      }
    },
    {
      "cell_type": "code",
      "source": [
        "def classify_image(img_path):\n",
        "  img = image.load_img(img_path, target_size = (224, 224))\n",
        "\n",
        "  # visualize image\n",
        "  plt.imshow(img)\n",
        "  plt.show()\n",
        "\n",
        "  # convert image to numpy array\n",
        "  image_array = image.img_to_array(img)\n",
        "  image_array = np.expand_dims(image_array, axis = 0)\n",
        "  image_array = preprocess_input(image_array)\n",
        "\n",
        "  preds = model.predict(image_array)\n",
        "\n",
        "  with open('results/ResNet50/results.txt', 'a') as f:\n",
        "        f.writelines(str(preds))\n",
        "\n",
        "  print('Predicted:', decode_predictions(preds, top = 3)[0])"
      ],
      "metadata": {
        "id": "xtZUnu9OqER1"
      },
      "execution_count": 7,
      "outputs": []
    },
    {
      "cell_type": "code",
      "source": [
        "# Coyote\n",
        "classify_image('images/coyote.jpg')"
      ],
      "metadata": {
        "id": "_vyq-LGvqEG7"
      },
      "execution_count": null,
      "outputs": []
    },
    {
      "cell_type": "code",
      "source": [
        "# Elephant\n",
        "classify_image('images/elephant.jpg')"
      ],
      "metadata": {
        "id": "5oZfyZeiqED4"
      },
      "execution_count": null,
      "outputs": []
    },
    {
      "cell_type": "code",
      "source": [
        "# Flamingo\n",
        "classify_image('images/flamingo.jpg')"
      ],
      "metadata": {
        "id": "ialnhSBtqEBI"
      },
      "execution_count": null,
      "outputs": []
    },
    {
      "cell_type": "code",
      "source": [
        "# Hippo\n",
        "classify_image('images/hippo.jpg')"
      ],
      "metadata": {
        "id": "-gPKnuUcqD-c"
      },
      "execution_count": null,
      "outputs": []
    },
    {
      "cell_type": "code",
      "source": [
        "# Koala\n",
        "classify_image('images/koala.jpg')"
      ],
      "metadata": {
        "id": "tRsDE27kqD70"
      },
      "execution_count": null,
      "outputs": []
    },
    {
      "cell_type": "code",
      "source": [
        "# lamb\n",
        "classify_image('images/lamb.jpg')"
      ],
      "metadata": {
        "id": "eWzhbea0qD5Y"
      },
      "execution_count": null,
      "outputs": []
    },
    {
      "cell_type": "code",
      "source": [
        "# Panda\n",
        "classify_image('images/panda.jpg')"
      ],
      "metadata": {
        "id": "Mn5MCrP1qD2u"
      },
      "execution_count": null,
      "outputs": []
    },
    {
      "cell_type": "code",
      "source": [
        "# Wolf\n",
        "classify_image('images/wolf.jpg')"
      ],
      "metadata": {
        "id": "2bG3guPdqDz_"
      },
      "execution_count": null,
      "outputs": []
    },
    {
      "cell_type": "code",
      "source": [],
      "metadata": {
        "id": "9NMw3f2CqDxK"
      },
      "execution_count": null,
      "outputs": []
    }
  ],
  "metadata": {
    "colab": {
      "provenance": []
    },
    "kernelspec": {
      "display_name": "Python 3",
      "name": "python3"
    }
  },
  "nbformat": 4,
  "nbformat_minor": 0
}