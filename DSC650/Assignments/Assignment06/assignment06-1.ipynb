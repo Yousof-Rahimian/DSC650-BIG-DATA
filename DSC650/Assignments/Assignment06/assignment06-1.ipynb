{
  "cells": [
    {
      "cell_type": "markdown",
      "source": [
        "6.1 ConvNet: MNIST image classifier (digits)"
      ],
      "metadata": {
        "id": "Mn0dQrFIfQ4z"
      }
    },
    {
      "cell_type": "code",
      "execution_count": null,
      "metadata": {
        "colab": {
          "base_uri": "https://localhost:8080/"
        },
        "id": "1inyuq29NvAv",
        "outputId": "341cfc86-920e-4db5-aa1a-9831b5c82e52"
      },
      "outputs": [
        {
          "output_type": "stream",
          "name": "stdout",
          "text": [
            "Drive already mounted at /content/drive; to attempt to forcibly remount, call drive.mount(\"/content/drive\", force_remount=True).\n"
          ]
        }
      ],
      "source": [
        "from google.colab import drive\n",
        "drive.mount('/content/drive')"
      ]
    },
    {
      "cell_type": "code",
      "execution_count": null,
      "metadata": {
        "colab": {
          "base_uri": "https://localhost:8080/"
        },
        "id": "H8tasGOA792S",
        "outputId": "cc8371ab-9f3f-4516-b8f5-7cc1a7fbfc5b"
      },
      "outputs": [
        {
          "output_type": "stream",
          "name": "stdout",
          "text": [
            "Mounted at /content/drive\n",
            "/content/drive/My Drive/assignment06\n"
          ]
        }
      ],
      "source": [
        "import os\n",
        "from google.colab import drive\n",
        "drive.mount('/content/drive', force_remount = True)\n",
        "os.chdir('/content/drive/My Drive/assignment06')\n",
        "!pwd"
      ]
    },
    {
      "cell_type": "code",
      "source": [
        "import numpy as np\n",
        "import pandas as pd\n",
        "import matplotlib.pyplot as plt\n",
        "import pickle\n",
        "\n",
        "from keras import layers, models\n",
        "from keras.datasets import mnist\n",
        "from keras.models import Sequential\n",
        "from keras.layers import Dense, Dropout, Activation\n",
        "from keras.utils import np_utils, to_categorical"
      ],
      "metadata": {
        "id": "9WwweEVHfbUv"
      },
      "execution_count": 3,
      "outputs": []
    },
    {
      "cell_type": "markdown",
      "source": [
        "Load the Data"
      ],
      "metadata": {
        "id": "stVegv9zfez6"
      }
    },
    {
      "cell_type": "code",
      "source": [
        "(train_images, train_labels), (test_images, test_labels) = mnist.load_data()"
      ],
      "metadata": {
        "colab": {
          "base_uri": "https://localhost:8080/"
        },
        "id": "zlFarOLzfu91",
        "outputId": "25afc783-6bb1-438c-fa23-12346cfc50d4"
      },
      "execution_count": 5,
      "outputs": [
        {
          "output_type": "stream",
          "name": "stdout",
          "text": [
            "Downloading data from https://storage.googleapis.com/tensorflow/tf-keras-datasets/mnist.npz\n",
            "11490434/11490434 [==============================] - 0s 0us/step\n"
          ]
        }
      ]
    },
    {
      "cell_type": "code",
      "source": [
        "# get the size of the data sets\n",
        "print(f'train_images: {train_images.shape}')\n",
        "print(f'test_images: {test_images.shape}')\n",
        "print(f'train_labels: {train_labels.shape}')\n",
        "print(f'test_labels: {test_labels.shape}')"
      ],
      "metadata": {
        "colab": {
          "base_uri": "https://localhost:8080/"
        },
        "id": "8EJCSVURfoCn",
        "outputId": "1b76bc5b-22aa-4176-df48-afc80837ebc0"
      },
      "execution_count": 6,
      "outputs": [
        {
          "output_type": "stream",
          "name": "stdout",
          "text": [
            "train_images: (60000, 28, 28)\n",
            "test_images: (10000, 28, 28)\n",
            "train_labels: (60000,)\n",
            "test_labels: (10000,)\n"
          ]
        }
      ]
    },
    {
      "cell_type": "code",
      "source": [
        "plt.imshow(train_images[0], cmap = 'gray')\n",
        "plt.title(train_labels[0])"
      ],
      "metadata": {
        "colab": {
          "base_uri": "https://localhost:8080/",
          "height": 470
        },
        "id": "XJaBd4RzfcJj",
        "outputId": "b76a88f4-45a5-4d1a-d67c-2656618270a9"
      },
      "execution_count": 7,
      "outputs": [
        {
          "output_type": "execute_result",
          "data": {
            "text/plain": [
              "Text(0.5, 1.0, '5')"
            ]
          },
          "metadata": {},
          "execution_count": 7
        },
        {
          "output_type": "display_data",
          "data": {
            "text/plain": [
              "<Figure size 640x480 with 1 Axes>"
            ],
            "image/png": "[encoded data removed]"
          },
          "metadata": {}
        }
      ]
    },
    {
      "cell_type": "code",
      "source": [
        "# reshape datasets\n",
        "train_images = train_images.reshape((60000, 28, 28, 1))\n",
        "test_images = test_images.reshape((10000, 28, 28, 1))"
      ],
      "metadata": {
        "id": "apH79cRBf1sA"
      },
      "execution_count": 8,
      "outputs": []
    },
    {
      "cell_type": "code",
      "source": [
        "# normalize datasets\n",
        "train_images = train_images.astype('float32') / 255\n",
        "test_images = test_images.astype('float32') / 255"
      ],
      "metadata": {
        "id": "hVKazymkf4mk"
      },
      "execution_count": 9,
      "outputs": []
    },
    {
      "cell_type": "code",
      "source": [
        "# convert labels to numeric\n",
        "train_labels = to_categorical(train_labels, 10)\n",
        "test_labels = to_categorical(test_labels, 10)"
      ],
      "metadata": {
        "id": "EZpc5OOef7PX"
      },
      "execution_count": 10,
      "outputs": []
    },
    {
      "cell_type": "code",
      "source": [
        "x_val = train_images[:10000]\n",
        "partial_x_train = train_images[10000:]\n",
        "\n",
        "y_val = train_labels[:10000]\n",
        "partial_y_train = train_labels[10000:]"
      ],
      "metadata": {
        "id": "SnQE1M2Mf9pW"
      },
      "execution_count": 11,
      "outputs": []
    },
    {
      "cell_type": "markdown",
      "source": [
        "Build the Model"
      ],
      "metadata": {
        "id": "kV_J3tkXgC-i"
      }
    },
    {
      "cell_type": "code",
      "source": [
        "# Instantiate a convnet\n",
        "model = models.Sequential()\n",
        "model.add(layers.Conv2D(32, (3, 3), activation = 'relu', input_shape = (28, 28, 1)))\n",
        "model.add(layers.MaxPooling2D((2,2)))\n",
        "model.add(layers.Conv2D(64, (3, 3), activation = 'relu'))\n",
        "model.add(layers.MaxPooling2D((2,2)))\n",
        "model.add(layers.Conv2D(64, (3, 3), activation = 'relu'))"
      ],
      "metadata": {
        "id": "r1v66rNGgAMz"
      },
      "execution_count": 12,
      "outputs": []
    },
    {
      "cell_type": "code",
      "source": [
        "# Add a classifier on top of the convnet\n",
        "model.add(layers.Flatten())\n",
        "model.add(layers.Dense(64, activation = 'relu'))\n",
        "model.add(layers.Dense(10, activation = 'softmax'))"
      ],
      "metadata": {
        "id": "cVE75zlYgGbP"
      },
      "execution_count": 13,
      "outputs": []
    },
    {
      "cell_type": "markdown",
      "source": [
        "Compile the Model"
      ],
      "metadata": {
        "id": "K1lVn2jrgL7Y"
      }
    },
    {
      "cell_type": "code",
      "source": [
        "model.compile(optimizer = 'rmsprop', loss = 'categorical_crossentropy', metrics = ['accuracy'])"
      ],
      "metadata": {
        "id": "C3_xPcUpgJMW"
      },
      "execution_count": 14,
      "outputs": []
    },
    {
      "cell_type": "markdown",
      "source": [
        "Train the model"
      ],
      "metadata": {
        "id": "dHyGupx5gSmP"
      }
    },
    {
      "cell_type": "code",
      "source": [
        "history = model.fit(partial_x_train, partial_y_train,\n",
        "                    epochs = 5, batch_size = 64,\n",
        "                    validation_data = (x_val, y_val))"
      ],
      "metadata": {
        "colab": {
          "base_uri": "https://localhost:8080/"
        },
        "id": "aXXr5d2igPmJ",
        "outputId": "32f943e2-ebac-4d07-8308-3a00f0fad233"
      },
      "execution_count": 15,
      "outputs": [
        {
          "output_type": "stream",
          "name": "stdout",
          "text": [
            "Epoch 1/5\n",
            "782/782 [==============================] - 61s 76ms/step - loss: 0.1906 - accuracy: 0.9385 - val_loss: 0.0578 - val_accuracy: 0.9832\n",
            "Epoch 2/5\n",
            "782/782 [==============================] - 60s 76ms/step - loss: 0.0498 - accuracy: 0.9840 - val_loss: 0.0502 - val_accuracy: 0.9860\n",
            "Epoch 3/5\n",
            "782/782 [==============================] - 57s 72ms/step - loss: 0.0341 - accuracy: 0.9898 - val_loss: 0.0463 - val_accuracy: 0.9867\n",
            "Epoch 4/5\n",
            "782/782 [==============================] - 57s 73ms/step - loss: 0.0257 - accuracy: 0.9922 - val_loss: 0.0426 - val_accuracy: 0.9888\n",
            "Epoch 5/5\n",
            "782/782 [==============================] - 58s 74ms/step - loss: 0.0203 - accuracy: 0.9938 - val_loss: 0.0443 - val_accuracy: 0.9884\n"
          ]
        }
      ]
    },
    {
      "cell_type": "markdown",
      "source": [
        "Train History"
      ],
      "metadata": {
        "id": "7Mr1MzeGh3Oz"
      }
    },
    {
      "cell_type": "code",
      "source": [
        "history_dict = history.history\n",
        "history_dict.keys()"
      ],
      "metadata": {
        "colab": {
          "base_uri": "https://localhost:8080/"
        },
        "id": "2Cjj3QJhgW2o",
        "outputId": "0796f1b8-bb86-4248-d76b-4f1f1af7d2e5"
      },
      "execution_count": 16,
      "outputs": [
        {
          "output_type": "execute_result",
          "data": {
            "text/plain": [
              "dict_keys(['loss', 'accuracy', 'val_loss', 'val_accuracy'])"
            ]
          },
          "metadata": {},
          "execution_count": 16
        }
      ]
    },
    {
      "cell_type": "markdown",
      "source": [
        "Plot Training and Validation Loss"
      ],
      "metadata": {
        "id": "glmGC2i9h-u9"
      }
    },
    {
      "cell_type": "code",
      "source": [
        "plt.figure(figsize = (10, 6))\n",
        "\n",
        "loss_values = history_dict['loss']\n",
        "val_loss_values = history_dict['val_loss']\n",
        "\n",
        "epochs = range(1, len(loss_values) + 1)\n",
        "\n",
        "plt.plot(epochs, loss_values, 'r', label = 'Training loss')\n",
        "plt.plot(epochs, val_loss_values, 'b', label = 'Validation loss')\n",
        "\n",
        "plt.title('Training and Validation Loss')\n",
        "plt.xlabel('Epochs')\n",
        "plt.ylabel('Loss')\n",
        "\n",
        "plt.legend()\n",
        "\n",
        "fig = plt.gcf()\n",
        "fig.savefig('results/mnist/train_val_loss.png')\n",
        "\n",
        "plt.show()"
      ],
      "metadata": {
        "colab": {
          "base_uri": "https://localhost:8080/",
          "height": 564
        },
        "id": "cFaRrC2ih6Ig",
        "outputId": "f391d958-cdff-4c69-9640-199f57ade7fd"
      },
      "execution_count": 17,
      "outputs": [
        {
          "output_type": "display_data",
          "data": {
            "text/plain": [
              "<Figure size 1000x600 with 1 Axes>"
            ],
            "image/png": "[encoded data removed]"
          },
          "metadata": {}
        }
      ]
    },
    {
      "cell_type": "code",
      "source": [
        "plt.clf()\n",
        "\n",
        "plt.figure(figsize = (10, 6))\n",
        "\n",
        "acc_values = history_dict['accuracy']\n",
        "val_acc_values = history_dict['val_accuracy']\n",
        "\n",
        "epochs = range(1, len(loss_values) + 1)\n",
        "\n",
        "plt.plot(epochs, acc_values, 'r', label = 'Training accuracy')\n",
        "plt.plot(epochs, val_acc_values, 'b', label = 'Validation accuracy')\n",
        "\n",
        "plt.title('Training and Validation Accuracy')\n",
        "plt.xlabel('Epochs')\n",
        "plt.ylabel('Accuracy')\n",
        "\n",
        "plt.legend()\n",
        "\n",
        "fig = plt.gcf()\n",
        "fig.savefig('results/mnist/train_val_accuracy.png')\n",
        "\n",
        "plt.show()"
      ],
      "metadata": {
        "colab": {
          "base_uri": "https://localhost:8080/",
          "height": 582
        },
        "id": "HrLbFHV7iChe",
        "outputId": "11e7da2c-211b-4b9f-8a5c-cf709cb0d3ca"
      },
      "execution_count": 18,
      "outputs": [
        {
          "output_type": "display_data",
          "data": {
            "text/plain": [
              "<Figure size 640x480 with 0 Axes>"
            ]
          },
          "metadata": {}
        },
        {
          "output_type": "display_data",
          "data": {
            "text/plain": [
              "<Figure size 1000x600 with 1 Axes>"
            ],
            "image/png": "[encoded data removed]"
          },
          "metadata": {}
        }
      ]
    },
    {
      "cell_type": "markdown",
      "source": [
        "Evaluate the model"
      ],
      "metadata": {
        "id": "WtIIo9kiiKDc"
      }
    },
    {
      "cell_type": "code",
      "source": [
        "test_loss, test_acc = model.evaluate(test_images, test_labels)"
      ],
      "metadata": {
        "colab": {
          "base_uri": "https://localhost:8080/"
        },
        "id": "EvDffFsFiGwK",
        "outputId": "ec2eb5af-4461-4393-fb14-82adf5f6f990"
      },
      "execution_count": 19,
      "outputs": [
        {
          "output_type": "stream",
          "name": "stdout",
          "text": [
            "313/313 [==============================] - 4s 13ms/step - loss: 0.0303 - accuracy: 0.9901\n"
          ]
        }
      ]
    },
    {
      "cell_type": "code",
      "source": [
        "print(f'Test accurancy: {test_acc * 100:.1f}%')\n",
        "print(f'Test loss: {test_loss:.3f}')"
      ],
      "metadata": {
        "colab": {
          "base_uri": "https://localhost:8080/"
        },
        "id": "vKSh7XLeiNHw",
        "outputId": "ac354de5-cb7d-46bb-d855-6a042ce0800d"
      },
      "execution_count": 20,
      "outputs": [
        {
          "output_type": "stream",
          "name": "stdout",
          "text": [
            "Test accurancy: 99.0%\n",
            "Test loss: 0.030\n"
          ]
        }
      ]
    },
    {
      "cell_type": "code",
      "source": [
        "model.save('results/mnist/mnist.h5', history)"
      ],
      "metadata": {
        "id": "bI9MaxA_iQAI"
      },
      "execution_count": 21,
      "outputs": []
    },
    {
      "cell_type": "code",
      "source": [
        "pickle.dump({'test_accuracy': test_acc, \n",
        "            'test_loss': test_loss, \n",
        "            'history_dict': history_dict},\n",
        "            open(\"results/mnist/training_metrics\", \"wb\"))"
      ],
      "metadata": {
        "id": "b3Z_q3BQiSoH"
      },
      "execution_count": 22,
      "outputs": []
    },
    {
      "cell_type": "code",
      "source": [],
      "metadata": {
        "id": "AlJ7UqTOiVI8"
      },
      "execution_count": null,
      "outputs": []
    }
  ],
  "metadata": {
    "colab": {
      "provenance": []
    },
    "kernelspec": {
      "display_name": "Python 3",
      "name": "python3"
    }
  },
  "nbformat": 4,
  "nbformat_minor": 0
}